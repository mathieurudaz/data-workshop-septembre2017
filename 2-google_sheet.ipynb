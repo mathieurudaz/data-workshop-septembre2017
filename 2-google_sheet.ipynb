{
 "cells": [
  {
   "cell_type": "markdown",
   "metadata": {},
   "source": [
    "# Travailler avec un jeu de données"
   ]
  },
  {
   "cell_type": "markdown",
   "metadata": {},
   "source": [
    "## A) Préparation"
   ]
  },
  {
   "cell_type": "markdown",
   "metadata": {},
   "source": [
    "### 1) On s'équipe des outils dont nous aurons besoin\n",
    "\n",
    "- La bibliothèque d'analyse de données\n",
    "- La bibliothèque destinée à tracer et visualiser des données sous forme de graphiques\n",
    "- La bibliothèque de gestion des dates"
   ]
  },
  {
   "cell_type": "code",
   "execution_count": 52,
   "metadata": {
    "collapsed": true
   },
   "outputs": [],
   "source": [
    "import pandas as pd\n",
    "import matplotlib\n",
    "import matplotlib.pyplot as plt\n",
    "import datetime\n",
    "import numpy as np\n",
    "%matplotlib inline\n",
    "matplotlib.rcParams['pdf.fonttype'] = 42"
   ]
  },
  {
   "cell_type": "markdown",
   "metadata": {},
   "source": [
    "### 2) Puis on se connecte à notre base de données\n",
    "\n",
    "La base de données des participants:  \n",
    "https://docs.google.com/a/tamedia.com/spreadsheets/d/1KtvS7DVQ5qzK6LHWt5npAcZBhBsTlTfJkzOdN7E03DA/edit?usp=sharing"
   ]
  },
  {
   "cell_type": "markdown",
   "metadata": {},
   "source": [
    "#### Charge la base de données directement depuis Google\n",
    "\n",
    "On remplace toutes les valeurs nulles - par exemple, si un utilisateur à répondu *aucun* dans la cellule *Nombre d'enfants* - par zéro."
   ]
  },
  {
   "cell_type": "code",
   "execution_count": 4,
   "metadata": {
    "collapsed": true
   },
   "outputs": [],
   "source": [
    "spreadsheet_url = 'https://docs.google.com/spreadsheets/d/e/2PACX-1vRwQgWrUdT_NYxOK7uSzYTbwU445CWe18-0M0KJIJFShWBf-jtzVU9B7PzKsV5yKbYULDNaNUlLtxmj/pub?gid=0&single=true&output=csv'\n",
    "\n",
    "df = pd.read_csv(\n",
    "    spreadsheet_url,\n",
    "    error_bad_lines=False,\n",
    "    na_values=[0, \"Non\", \"non\", \"NoN\", \"NON\", \"Aucun\", \"aucun\"])"
   ]
  },
  {
   "cell_type": "markdown",
   "metadata": {},
   "source": [
    "#### Le jeu de données complet"
   ]
  },
  {
   "cell_type": "code",
   "execution_count": 5,
   "metadata": {},
   "outputs": [
    {
     "data": {
      "text/html": [
       "<div>\n",
       "<style>\n",
       "    .dataframe thead tr:only-child th {\n",
       "        text-align: right;\n",
       "    }\n",
       "\n",
       "    .dataframe thead th {\n",
       "        text-align: left;\n",
       "    }\n",
       "\n",
       "    .dataframe tbody tr th {\n",
       "        vertical-align: top;\n",
       "    }\n",
       "</style>\n",
       "<table border=\"1\" class=\"dataframe\">\n",
       "  <thead>\n",
       "    <tr style=\"text-align: right;\">\n",
       "      <th></th>\n",
       "      <th>Prénom</th>\n",
       "      <th>Signe astrologique</th>\n",
       "      <th>Date de naissance</th>\n",
       "      <th>Taille en cm</th>\n",
       "      <th>Nombre d'enfants</th>\n",
       "      <th>Sexe</th>\n",
       "    </tr>\n",
       "  </thead>\n",
       "  <tbody>\n",
       "    <tr>\n",
       "      <th>0</th>\n",
       "      <td>Fanny</td>\n",
       "      <td>Taureau</td>\n",
       "      <td>04.05.1983</td>\n",
       "      <td>160</td>\n",
       "      <td>NaN</td>\n",
       "      <td>f</td>\n",
       "    </tr>\n",
       "    <tr>\n",
       "      <th>1</th>\n",
       "      <td>Paul</td>\n",
       "      <td>Sagittaire</td>\n",
       "      <td>7.9.1986</td>\n",
       "      <td>176</td>\n",
       "      <td>NaN</td>\n",
       "      <td>h</td>\n",
       "    </tr>\n",
       "    <tr>\n",
       "      <th>2</th>\n",
       "      <td>Mathieu</td>\n",
       "      <td>Taureau</td>\n",
       "      <td>5.5.1984</td>\n",
       "      <td>178</td>\n",
       "      <td>NaN</td>\n",
       "      <td>h</td>\n",
       "    </tr>\n",
       "    <tr>\n",
       "      <th>3</th>\n",
       "      <td>Sophie</td>\n",
       "      <td>Capricorne</td>\n",
       "      <td>12.1.1987</td>\n",
       "      <td>163</td>\n",
       "      <td>1.0</td>\n",
       "      <td>f</td>\n",
       "    </tr>\n",
       "    <tr>\n",
       "      <th>4</th>\n",
       "      <td>Philippe</td>\n",
       "      <td>Capricorne</td>\n",
       "      <td>27.12.1963</td>\n",
       "      <td>175</td>\n",
       "      <td>2.0</td>\n",
       "      <td>h</td>\n",
       "    </tr>\n",
       "    <tr>\n",
       "      <th>5</th>\n",
       "      <td>Antoine</td>\n",
       "      <td>Gémeaux</td>\n",
       "      <td>03.06.1972</td>\n",
       "      <td>185</td>\n",
       "      <td>1.0</td>\n",
       "      <td>h</td>\n",
       "    </tr>\n",
       "    <tr>\n",
       "      <th>6</th>\n",
       "      <td>Bartek</td>\n",
       "      <td>Capricorne</td>\n",
       "      <td>22.12.1986</td>\n",
       "      <td>180</td>\n",
       "      <td>NaN</td>\n",
       "      <td>h</td>\n",
       "    </tr>\n",
       "    <tr>\n",
       "      <th>7</th>\n",
       "      <td>joelle</td>\n",
       "      <td>Cancer</td>\n",
       "      <td>13.07.1963</td>\n",
       "      <td>170</td>\n",
       "      <td>3.0</td>\n",
       "      <td>f</td>\n",
       "    </tr>\n",
       "    <tr>\n",
       "      <th>8</th>\n",
       "      <td>Laurence</td>\n",
       "      <td>Verseau</td>\n",
       "      <td>19.2.1963</td>\n",
       "      <td>170</td>\n",
       "      <td>1.0</td>\n",
       "      <td>f</td>\n",
       "    </tr>\n",
       "    <tr>\n",
       "      <th>9</th>\n",
       "      <td>Céline</td>\n",
       "      <td>Gémeaux</td>\n",
       "      <td>02.06.1985</td>\n",
       "      <td>155</td>\n",
       "      <td>NaN</td>\n",
       "      <td>f</td>\n",
       "    </tr>\n",
       "    <tr>\n",
       "      <th>10</th>\n",
       "      <td>Paul</td>\n",
       "      <td>Gémeaux</td>\n",
       "      <td>17.6.1989</td>\n",
       "      <td>176</td>\n",
       "      <td>NaN</td>\n",
       "      <td>h</td>\n",
       "    </tr>\n",
       "    <tr>\n",
       "      <th>11</th>\n",
       "      <td>Claude</td>\n",
       "      <td>Bélier</td>\n",
       "      <td>19.04.1970</td>\n",
       "      <td>180</td>\n",
       "      <td>2.0</td>\n",
       "      <td>h</td>\n",
       "    </tr>\n",
       "    <tr>\n",
       "      <th>12</th>\n",
       "      <td>Olivier</td>\n",
       "      <td>Lion</td>\n",
       "      <td>23.7.1961</td>\n",
       "      <td>175</td>\n",
       "      <td>1.0</td>\n",
       "      <td>h</td>\n",
       "    </tr>\n",
       "  </tbody>\n",
       "</table>\n",
       "</div>"
      ],
      "text/plain": [
       "      Prénom Signe astrologique Date de naissance  Taille en cm  \\\n",
       "0      Fanny            Taureau        04.05.1983           160   \n",
       "1       Paul         Sagittaire          7.9.1986           176   \n",
       "2    Mathieu            Taureau          5.5.1984           178   \n",
       "3     Sophie         Capricorne         12.1.1987           163   \n",
       "4   Philippe         Capricorne        27.12.1963           175   \n",
       "5    Antoine            Gémeaux        03.06.1972           185   \n",
       "6     Bartek         Capricorne        22.12.1986           180   \n",
       "7     joelle             Cancer        13.07.1963           170   \n",
       "8   Laurence            Verseau         19.2.1963           170   \n",
       "9     Céline            Gémeaux        02.06.1985           155   \n",
       "10      Paul            Gémeaux         17.6.1989           176   \n",
       "11    Claude             Bélier        19.04.1970           180   \n",
       "12   Olivier               Lion         23.7.1961           175   \n",
       "\n",
       "    Nombre d'enfants Sexe  \n",
       "0                NaN    f  \n",
       "1                NaN    h  \n",
       "2                NaN    h  \n",
       "3                1.0    f  \n",
       "4                2.0    h  \n",
       "5                1.0    h  \n",
       "6                NaN    h  \n",
       "7                3.0    f  \n",
       "8                1.0    f  \n",
       "9                NaN    f  \n",
       "10               NaN    h  \n",
       "11               2.0    h  \n",
       "12               1.0    h  "
      ]
     },
     "execution_count": 5,
     "metadata": {},
     "output_type": "execute_result"
    }
   ],
   "source": [
    "df"
   ]
  },
  {
   "cell_type": "markdown",
   "metadata": {},
   "source": [
    "#### Montre les cinq premières lignes du jeu de données"
   ]
  },
  {
   "cell_type": "code",
   "execution_count": 6,
   "metadata": {},
   "outputs": [
    {
     "data": {
      "text/html": [
       "<div>\n",
       "<style>\n",
       "    .dataframe thead tr:only-child th {\n",
       "        text-align: right;\n",
       "    }\n",
       "\n",
       "    .dataframe thead th {\n",
       "        text-align: left;\n",
       "    }\n",
       "\n",
       "    .dataframe tbody tr th {\n",
       "        vertical-align: top;\n",
       "    }\n",
       "</style>\n",
       "<table border=\"1\" class=\"dataframe\">\n",
       "  <thead>\n",
       "    <tr style=\"text-align: right;\">\n",
       "      <th></th>\n",
       "      <th>Prénom</th>\n",
       "      <th>Signe astrologique</th>\n",
       "      <th>Date de naissance</th>\n",
       "      <th>Taille en cm</th>\n",
       "      <th>Nombre d'enfants</th>\n",
       "      <th>Sexe</th>\n",
       "    </tr>\n",
       "  </thead>\n",
       "  <tbody>\n",
       "    <tr>\n",
       "      <th>0</th>\n",
       "      <td>Fanny</td>\n",
       "      <td>Taureau</td>\n",
       "      <td>04.05.1983</td>\n",
       "      <td>160</td>\n",
       "      <td>NaN</td>\n",
       "      <td>f</td>\n",
       "    </tr>\n",
       "    <tr>\n",
       "      <th>1</th>\n",
       "      <td>Paul</td>\n",
       "      <td>Sagittaire</td>\n",
       "      <td>7.9.1986</td>\n",
       "      <td>176</td>\n",
       "      <td>NaN</td>\n",
       "      <td>h</td>\n",
       "    </tr>\n",
       "    <tr>\n",
       "      <th>2</th>\n",
       "      <td>Mathieu</td>\n",
       "      <td>Taureau</td>\n",
       "      <td>5.5.1984</td>\n",
       "      <td>178</td>\n",
       "      <td>NaN</td>\n",
       "      <td>h</td>\n",
       "    </tr>\n",
       "    <tr>\n",
       "      <th>3</th>\n",
       "      <td>Sophie</td>\n",
       "      <td>Capricorne</td>\n",
       "      <td>12.1.1987</td>\n",
       "      <td>163</td>\n",
       "      <td>1.0</td>\n",
       "      <td>f</td>\n",
       "    </tr>\n",
       "    <tr>\n",
       "      <th>4</th>\n",
       "      <td>Philippe</td>\n",
       "      <td>Capricorne</td>\n",
       "      <td>27.12.1963</td>\n",
       "      <td>175</td>\n",
       "      <td>2.0</td>\n",
       "      <td>h</td>\n",
       "    </tr>\n",
       "  </tbody>\n",
       "</table>\n",
       "</div>"
      ],
      "text/plain": [
       "     Prénom Signe astrologique Date de naissance  Taille en cm  \\\n",
       "0     Fanny            Taureau        04.05.1983           160   \n",
       "1      Paul         Sagittaire          7.9.1986           176   \n",
       "2   Mathieu            Taureau          5.5.1984           178   \n",
       "3    Sophie         Capricorne         12.1.1987           163   \n",
       "4  Philippe         Capricorne        27.12.1963           175   \n",
       "\n",
       "   Nombre d'enfants Sexe  \n",
       "0               NaN    f  \n",
       "1               NaN    h  \n",
       "2               NaN    h  \n",
       "3               1.0    f  \n",
       "4               2.0    h  "
      ]
     },
     "execution_count": 6,
     "metadata": {},
     "output_type": "execute_result"
    }
   ],
   "source": [
    "df.head()"
   ]
  },
  {
   "cell_type": "code",
   "execution_count": 7,
   "metadata": {},
   "outputs": [
    {
     "data": {
      "text/plain": [
       "0        Fanny\n",
       "1         Paul\n",
       "2      Mathieu\n",
       "3       Sophie\n",
       "4     Philippe\n",
       "5      Antoine\n",
       "6       Bartek\n",
       "7       joelle\n",
       "8     Laurence\n",
       "9       Céline\n",
       "10        Paul\n",
       "11      Claude\n",
       "12     Olivier\n",
       "Name: Prénom, dtype: object"
      ]
     },
     "execution_count": 7,
     "metadata": {},
     "output_type": "execute_result"
    }
   ],
   "source": [
    "df[\"Prénom\"]"
   ]
  },
  {
   "cell_type": "code",
   "execution_count": 8,
   "metadata": {},
   "outputs": [
    {
     "data": {
      "text/html": [
       "<div>\n",
       "<style>\n",
       "    .dataframe thead tr:only-child th {\n",
       "        text-align: right;\n",
       "    }\n",
       "\n",
       "    .dataframe thead th {\n",
       "        text-align: left;\n",
       "    }\n",
       "\n",
       "    .dataframe tbody tr th {\n",
       "        vertical-align: top;\n",
       "    }\n",
       "</style>\n",
       "<table border=\"1\" class=\"dataframe\">\n",
       "  <thead>\n",
       "    <tr style=\"text-align: right;\">\n",
       "      <th></th>\n",
       "      <th>Prénom</th>\n",
       "      <th>Signe astrologique</th>\n",
       "      <th>Date de naissance</th>\n",
       "      <th>Taille en cm</th>\n",
       "      <th>Nombre d'enfants</th>\n",
       "      <th>Sexe</th>\n",
       "    </tr>\n",
       "  </thead>\n",
       "  <tbody>\n",
       "    <tr>\n",
       "      <th>3</th>\n",
       "      <td>Sophie</td>\n",
       "      <td>Capricorne</td>\n",
       "      <td>12.1.1987</td>\n",
       "      <td>163</td>\n",
       "      <td>1.0</td>\n",
       "      <td>f</td>\n",
       "    </tr>\n",
       "    <tr>\n",
       "      <th>4</th>\n",
       "      <td>Philippe</td>\n",
       "      <td>Capricorne</td>\n",
       "      <td>27.12.1963</td>\n",
       "      <td>175</td>\n",
       "      <td>2.0</td>\n",
       "      <td>h</td>\n",
       "    </tr>\n",
       "    <tr>\n",
       "      <th>6</th>\n",
       "      <td>Bartek</td>\n",
       "      <td>Capricorne</td>\n",
       "      <td>22.12.1986</td>\n",
       "      <td>180</td>\n",
       "      <td>NaN</td>\n",
       "      <td>h</td>\n",
       "    </tr>\n",
       "  </tbody>\n",
       "</table>\n",
       "</div>"
      ],
      "text/plain": [
       "     Prénom Signe astrologique Date de naissance  Taille en cm  \\\n",
       "3    Sophie         Capricorne         12.1.1987           163   \n",
       "4  Philippe         Capricorne        27.12.1963           175   \n",
       "6    Bartek         Capricorne        22.12.1986           180   \n",
       "\n",
       "   Nombre d'enfants Sexe  \n",
       "3               1.0    f  \n",
       "4               2.0    h  \n",
       "6               NaN    h  "
      ]
     },
     "execution_count": 8,
     "metadata": {},
     "output_type": "execute_result"
    }
   ],
   "source": [
    "df[df[\"Signe astrologique\"] == \"Capricorne\"]"
   ]
  },
  {
   "cell_type": "code",
   "execution_count": 10,
   "metadata": {},
   "outputs": [
    {
     "data": {
      "text/html": [
       "<div>\n",
       "<style>\n",
       "    .dataframe thead tr:only-child th {\n",
       "        text-align: right;\n",
       "    }\n",
       "\n",
       "    .dataframe thead th {\n",
       "        text-align: left;\n",
       "    }\n",
       "\n",
       "    .dataframe tbody tr th {\n",
       "        vertical-align: top;\n",
       "    }\n",
       "</style>\n",
       "<table border=\"1\" class=\"dataframe\">\n",
       "  <thead>\n",
       "    <tr style=\"text-align: right;\">\n",
       "      <th></th>\n",
       "      <th>Prénom</th>\n",
       "      <th>Signe astrologique</th>\n",
       "      <th>Date de naissance</th>\n",
       "      <th>Taille en cm</th>\n",
       "      <th>Nombre d'enfants</th>\n",
       "      <th>Sexe</th>\n",
       "    </tr>\n",
       "  </thead>\n",
       "  <tbody>\n",
       "    <tr>\n",
       "      <th>4</th>\n",
       "      <td>Philippe</td>\n",
       "      <td>Capricorne</td>\n",
       "      <td>27.12.1963</td>\n",
       "      <td>175</td>\n",
       "      <td>2.0</td>\n",
       "      <td>h</td>\n",
       "    </tr>\n",
       "    <tr>\n",
       "      <th>11</th>\n",
       "      <td>Claude</td>\n",
       "      <td>Bélier</td>\n",
       "      <td>19.04.1970</td>\n",
       "      <td>180</td>\n",
       "      <td>2.0</td>\n",
       "      <td>h</td>\n",
       "    </tr>\n",
       "  </tbody>\n",
       "</table>\n",
       "</div>"
      ],
      "text/plain": [
       "      Prénom Signe astrologique Date de naissance  Taille en cm  \\\n",
       "4   Philippe         Capricorne        27.12.1963           175   \n",
       "11    Claude             Bélier        19.04.1970           180   \n",
       "\n",
       "    Nombre d'enfants Sexe  \n",
       "4                2.0    h  \n",
       "11               2.0    h  "
      ]
     },
     "execution_count": 10,
     "metadata": {},
     "output_type": "execute_result"
    }
   ],
   "source": [
    "df[df[\"Nombre d'enfants\"] == 2]"
   ]
  },
  {
   "cell_type": "code",
   "execution_count": 12,
   "metadata": {},
   "outputs": [
    {
     "data": {
      "text/html": [
       "<div>\n",
       "<style>\n",
       "    .dataframe thead tr:only-child th {\n",
       "        text-align: right;\n",
       "    }\n",
       "\n",
       "    .dataframe thead th {\n",
       "        text-align: left;\n",
       "    }\n",
       "\n",
       "    .dataframe tbody tr th {\n",
       "        vertical-align: top;\n",
       "    }\n",
       "</style>\n",
       "<table border=\"1\" class=\"dataframe\">\n",
       "  <thead>\n",
       "    <tr style=\"text-align: right;\">\n",
       "      <th></th>\n",
       "      <th>Prénom</th>\n",
       "      <th>Signe astrologique</th>\n",
       "      <th>Date de naissance</th>\n",
       "      <th>Taille en cm</th>\n",
       "      <th>Nombre d'enfants</th>\n",
       "      <th>Sexe</th>\n",
       "    </tr>\n",
       "  </thead>\n",
       "  <tbody>\n",
       "    <tr>\n",
       "      <th>2</th>\n",
       "      <td>Mathieu</td>\n",
       "      <td>Taureau</td>\n",
       "      <td>5.5.1984</td>\n",
       "      <td>178</td>\n",
       "      <td>NaN</td>\n",
       "      <td>h</td>\n",
       "    </tr>\n",
       "    <tr>\n",
       "      <th>3</th>\n",
       "      <td>Sophie</td>\n",
       "      <td>Capricorne</td>\n",
       "      <td>12.1.1987</td>\n",
       "      <td>163</td>\n",
       "      <td>1.0</td>\n",
       "      <td>f</td>\n",
       "    </tr>\n",
       "    <tr>\n",
       "      <th>4</th>\n",
       "      <td>Philippe</td>\n",
       "      <td>Capricorne</td>\n",
       "      <td>27.12.1963</td>\n",
       "      <td>175</td>\n",
       "      <td>2.0</td>\n",
       "      <td>h</td>\n",
       "    </tr>\n",
       "    <tr>\n",
       "      <th>5</th>\n",
       "      <td>Antoine</td>\n",
       "      <td>Gémeaux</td>\n",
       "      <td>03.06.1972</td>\n",
       "      <td>185</td>\n",
       "      <td>1.0</td>\n",
       "      <td>h</td>\n",
       "    </tr>\n",
       "    <tr>\n",
       "      <th>9</th>\n",
       "      <td>Céline</td>\n",
       "      <td>Gémeaux</td>\n",
       "      <td>02.06.1985</td>\n",
       "      <td>155</td>\n",
       "      <td>NaN</td>\n",
       "      <td>f</td>\n",
       "    </tr>\n",
       "    <tr>\n",
       "      <th>12</th>\n",
       "      <td>Olivier</td>\n",
       "      <td>Lion</td>\n",
       "      <td>23.7.1961</td>\n",
       "      <td>175</td>\n",
       "      <td>1.0</td>\n",
       "      <td>h</td>\n",
       "    </tr>\n",
       "  </tbody>\n",
       "</table>\n",
       "</div>"
      ],
      "text/plain": [
       "      Prénom Signe astrologique Date de naissance  Taille en cm  \\\n",
       "2    Mathieu            Taureau          5.5.1984           178   \n",
       "3     Sophie         Capricorne         12.1.1987           163   \n",
       "4   Philippe         Capricorne        27.12.1963           175   \n",
       "5    Antoine            Gémeaux        03.06.1972           185   \n",
       "9     Céline            Gémeaux        02.06.1985           155   \n",
       "12   Olivier               Lion         23.7.1961           175   \n",
       "\n",
       "    Nombre d'enfants Sexe  \n",
       "2                NaN    h  \n",
       "3                1.0    f  \n",
       "4                2.0    h  \n",
       "5                1.0    h  \n",
       "9                NaN    f  \n",
       "12               1.0    h  "
      ]
     },
     "execution_count": 12,
     "metadata": {},
     "output_type": "execute_result"
    }
   ],
   "source": [
    "df[df[\"Prénom\"].str.contains(\"i\")]"
   ]
  },
  {
   "cell_type": "markdown",
   "metadata": {},
   "source": [
    "### 3) On corrige les éventuelles erreurs et on convertit les données en un format que le système comprend"
   ]
  },
  {
   "cell_type": "markdown",
   "metadata": {},
   "source": [
    "#### Les dates et chiffres sont transformés"
   ]
  },
  {
   "cell_type": "code",
   "execution_count": 13,
   "metadata": {
    "collapsed": true
   },
   "outputs": [],
   "source": [
    "df[\"Date de naissance\"] = pd.to_datetime(df[\"Date de naissance\"])\n",
    "df[\"Nombre d'enfants\"].fillna(0, inplace=True)\n",
    "df[\"Taille en cm\"] = df[\"Taille en cm\"].replace(r\"[^0-9]\", \"\", regex=True).astype(float)"
   ]
  },
  {
   "cell_type": "markdown",
   "metadata": {},
   "source": [
    "#### Calcule l'âge de chacun d'entre nous"
   ]
  },
  {
   "cell_type": "code",
   "execution_count": 14,
   "metadata": {
    "collapsed": true
   },
   "outputs": [],
   "source": [
    "now = pd.Timestamp(datetime.datetime.now())\n",
    "df[\"Age\"] = (now - df[\"Date de naissance\"]).astype('<m8[Y]')"
   ]
  },
  {
   "cell_type": "markdown",
   "metadata": {},
   "source": [
    "#### Vérifie le résultat des modifications"
   ]
  },
  {
   "cell_type": "code",
   "execution_count": 15,
   "metadata": {},
   "outputs": [
    {
     "data": {
      "text/html": [
       "<div>\n",
       "<style>\n",
       "    .dataframe thead tr:only-child th {\n",
       "        text-align: right;\n",
       "    }\n",
       "\n",
       "    .dataframe thead th {\n",
       "        text-align: left;\n",
       "    }\n",
       "\n",
       "    .dataframe tbody tr th {\n",
       "        vertical-align: top;\n",
       "    }\n",
       "</style>\n",
       "<table border=\"1\" class=\"dataframe\">\n",
       "  <thead>\n",
       "    <tr style=\"text-align: right;\">\n",
       "      <th></th>\n",
       "      <th>Prénom</th>\n",
       "      <th>Signe astrologique</th>\n",
       "      <th>Date de naissance</th>\n",
       "      <th>Taille en cm</th>\n",
       "      <th>Nombre d'enfants</th>\n",
       "      <th>Sexe</th>\n",
       "      <th>Age</th>\n",
       "    </tr>\n",
       "  </thead>\n",
       "  <tbody>\n",
       "    <tr>\n",
       "      <th>0</th>\n",
       "      <td>Fanny</td>\n",
       "      <td>Taureau</td>\n",
       "      <td>1983-04-05</td>\n",
       "      <td>160.0</td>\n",
       "      <td>0.0</td>\n",
       "      <td>f</td>\n",
       "      <td>34.0</td>\n",
       "    </tr>\n",
       "    <tr>\n",
       "      <th>1</th>\n",
       "      <td>Paul</td>\n",
       "      <td>Sagittaire</td>\n",
       "      <td>1986-07-09</td>\n",
       "      <td>176.0</td>\n",
       "      <td>0.0</td>\n",
       "      <td>h</td>\n",
       "      <td>31.0</td>\n",
       "    </tr>\n",
       "    <tr>\n",
       "      <th>2</th>\n",
       "      <td>Mathieu</td>\n",
       "      <td>Taureau</td>\n",
       "      <td>1984-05-05</td>\n",
       "      <td>178.0</td>\n",
       "      <td>0.0</td>\n",
       "      <td>h</td>\n",
       "      <td>33.0</td>\n",
       "    </tr>\n",
       "    <tr>\n",
       "      <th>3</th>\n",
       "      <td>Sophie</td>\n",
       "      <td>Capricorne</td>\n",
       "      <td>1987-12-01</td>\n",
       "      <td>163.0</td>\n",
       "      <td>1.0</td>\n",
       "      <td>f</td>\n",
       "      <td>29.0</td>\n",
       "    </tr>\n",
       "    <tr>\n",
       "      <th>4</th>\n",
       "      <td>Philippe</td>\n",
       "      <td>Capricorne</td>\n",
       "      <td>1963-12-27</td>\n",
       "      <td>175.0</td>\n",
       "      <td>2.0</td>\n",
       "      <td>h</td>\n",
       "      <td>53.0</td>\n",
       "    </tr>\n",
       "  </tbody>\n",
       "</table>\n",
       "</div>"
      ],
      "text/plain": [
       "     Prénom Signe astrologique Date de naissance  Taille en cm  \\\n",
       "0     Fanny            Taureau        1983-04-05         160.0   \n",
       "1      Paul         Sagittaire        1986-07-09         176.0   \n",
       "2   Mathieu            Taureau        1984-05-05         178.0   \n",
       "3    Sophie         Capricorne        1987-12-01         163.0   \n",
       "4  Philippe         Capricorne        1963-12-27         175.0   \n",
       "\n",
       "   Nombre d'enfants Sexe   Age  \n",
       "0               0.0    f  34.0  \n",
       "1               0.0    h  31.0  \n",
       "2               0.0    h  33.0  \n",
       "3               1.0    f  29.0  \n",
       "4               2.0    h  53.0  "
      ]
     },
     "execution_count": 15,
     "metadata": {},
     "output_type": "execute_result"
    }
   ],
   "source": [
    "df.head()"
   ]
  },
  {
   "cell_type": "markdown",
   "metadata": {},
   "source": [
    "## B) Un aperçu rapide de notre jeu de données"
   ]
  },
  {
   "cell_type": "markdown",
   "metadata": {},
   "source": [
    "### 1) Affiche le nombre de lignes et de colonnes de notre base données (Combien nous sommes et combien de paramètres nous caractérisent)"
   ]
  },
  {
   "cell_type": "code",
   "execution_count": 16,
   "metadata": {},
   "outputs": [
    {
     "data": {
      "text/plain": [
       "(13, 7)"
      ]
     },
     "execution_count": 16,
     "metadata": {},
     "output_type": "execute_result"
    }
   ],
   "source": [
    "df.shape"
   ]
  },
  {
   "cell_type": "markdown",
   "metadata": {},
   "source": [
    "### 2) Affiche le nom de chaque paramètre qui nous caractérise ainsi que son type de donnée"
   ]
  },
  {
   "cell_type": "code",
   "execution_count": 17,
   "metadata": {},
   "outputs": [
    {
     "data": {
      "text/plain": [
       "Prénom                        object\n",
       "Signe astrologique            object\n",
       "Date de naissance     datetime64[ns]\n",
       "Taille en cm                 float64\n",
       "Nombre d'enfants             float64\n",
       "Sexe                          object\n",
       "Age                          float64\n",
       "dtype: object"
      ]
     },
     "execution_count": 17,
     "metadata": {},
     "output_type": "execute_result"
    }
   ],
   "source": [
    "df.dtypes"
   ]
  },
  {
   "cell_type": "markdown",
   "metadata": {},
   "source": [
    "### 3) Nous pourrions commencer par demander un aperçu statistique de notre groupe"
   ]
  },
  {
   "cell_type": "code",
   "execution_count": 18,
   "metadata": {},
   "outputs": [
    {
     "data": {
      "text/html": [
       "<div>\n",
       "<style>\n",
       "    .dataframe thead tr:only-child th {\n",
       "        text-align: right;\n",
       "    }\n",
       "\n",
       "    .dataframe thead th {\n",
       "        text-align: left;\n",
       "    }\n",
       "\n",
       "    .dataframe tbody tr th {\n",
       "        vertical-align: top;\n",
       "    }\n",
       "</style>\n",
       "<table border=\"1\" class=\"dataframe\">\n",
       "  <thead>\n",
       "    <tr style=\"text-align: right;\">\n",
       "      <th></th>\n",
       "      <th>Taille en cm</th>\n",
       "      <th>Nombre d'enfants</th>\n",
       "      <th>Age</th>\n",
       "    </tr>\n",
       "  </thead>\n",
       "  <tbody>\n",
       "    <tr>\n",
       "      <th>count</th>\n",
       "      <td>13.000000</td>\n",
       "      <td>13.000000</td>\n",
       "      <td>13.000000</td>\n",
       "    </tr>\n",
       "    <tr>\n",
       "      <th>mean</th>\n",
       "      <td>172.538462</td>\n",
       "      <td>0.846154</td>\n",
       "      <td>40.461538</td>\n",
       "    </tr>\n",
       "    <tr>\n",
       "      <th>std</th>\n",
       "      <td>8.666174</td>\n",
       "      <td>0.987096</td>\n",
       "      <td>11.117669</td>\n",
       "    </tr>\n",
       "    <tr>\n",
       "      <th>min</th>\n",
       "      <td>155.000000</td>\n",
       "      <td>0.000000</td>\n",
       "      <td>28.000000</td>\n",
       "    </tr>\n",
       "    <tr>\n",
       "      <th>25%</th>\n",
       "      <td>170.000000</td>\n",
       "      <td>0.000000</td>\n",
       "      <td>31.000000</td>\n",
       "    </tr>\n",
       "    <tr>\n",
       "      <th>50%</th>\n",
       "      <td>175.000000</td>\n",
       "      <td>1.000000</td>\n",
       "      <td>34.000000</td>\n",
       "    </tr>\n",
       "    <tr>\n",
       "      <th>75%</th>\n",
       "      <td>178.000000</td>\n",
       "      <td>1.000000</td>\n",
       "      <td>53.000000</td>\n",
       "    </tr>\n",
       "    <tr>\n",
       "      <th>max</th>\n",
       "      <td>185.000000</td>\n",
       "      <td>3.000000</td>\n",
       "      <td>56.000000</td>\n",
       "    </tr>\n",
       "  </tbody>\n",
       "</table>\n",
       "</div>"
      ],
      "text/plain": [
       "       Taille en cm  Nombre d'enfants        Age\n",
       "count     13.000000         13.000000  13.000000\n",
       "mean     172.538462          0.846154  40.461538\n",
       "std        8.666174          0.987096  11.117669\n",
       "min      155.000000          0.000000  28.000000\n",
       "25%      170.000000          0.000000  31.000000\n",
       "50%      175.000000          1.000000  34.000000\n",
       "75%      178.000000          1.000000  53.000000\n",
       "max      185.000000          3.000000  56.000000"
      ]
     },
     "execution_count": 18,
     "metadata": {},
     "output_type": "execute_result"
    }
   ],
   "source": [
    "df.describe()"
   ]
  },
  {
   "cell_type": "markdown",
   "metadata": {},
   "source": [
    "## C) Explorer le jeu de données pour y dénicher un sujet"
   ]
  },
  {
   "cell_type": "markdown",
   "metadata": {},
   "source": [
    "### 1) Les hommes qui travaillent ont-ils plus d'enfants que les femmes dans la même situation?"
   ]
  },
  {
   "cell_type": "markdown",
   "metadata": {},
   "source": [
    "#### Nombre d'hommes et de femmes"
   ]
  },
  {
   "cell_type": "code",
   "execution_count": 19,
   "metadata": {},
   "outputs": [
    {
     "data": {
      "text/plain": [
       "h    8\n",
       "f    5\n",
       "Name: Sexe, dtype: int64"
      ]
     },
     "execution_count": 19,
     "metadata": {},
     "output_type": "execute_result"
    }
   ],
   "source": [
    "df[\"Sexe\"].value_counts()"
   ]
  },
  {
   "cell_type": "markdown",
   "metadata": {},
   "source": [
    "#### Somme du nombre d'enfants des hommes et des femmes"
   ]
  },
  {
   "cell_type": "code",
   "execution_count": 20,
   "metadata": {},
   "outputs": [
    {
     "data": {
      "text/plain": [
       "Sexe\n",
       "f    5.0\n",
       "h    6.0\n",
       "Name: Nombre d'enfants, dtype: float64"
      ]
     },
     "execution_count": 20,
     "metadata": {},
     "output_type": "execute_result"
    }
   ],
   "source": [
    "df.groupby(\"Sexe\")[\"Nombre d'enfants\"].sum()"
   ]
  },
  {
   "cell_type": "markdown",
   "metadata": {},
   "source": [
    "#### Un résultat plus détaillé donnerait"
   ]
  },
  {
   "cell_type": "code",
   "execution_count": 21,
   "metadata": {},
   "outputs": [
    {
     "data": {
      "text/plain": [
       "Sexe  Nombre d'enfants\n",
       "f     0.0                 2\n",
       "      1.0                 2\n",
       "      3.0                 1\n",
       "h     0.0                 4\n",
       "      1.0                 2\n",
       "      2.0                 2\n",
       "Name: Nombre d'enfants, dtype: int64"
      ]
     },
     "execution_count": 21,
     "metadata": {},
     "output_type": "execute_result"
    }
   ],
   "source": [
    "df.groupby(\"Sexe\")[\"Nombre d'enfants\"].value_counts()"
   ]
  },
  {
   "cell_type": "markdown",
   "metadata": {},
   "source": [
    "#### ... et en pourcentage?"
   ]
  },
  {
   "cell_type": "code",
   "execution_count": 22,
   "metadata": {},
   "outputs": [
    {
     "data": {
      "text/plain": [
       "Sexe  Nombre d'enfants\n",
       "f     0.0                 0.40\n",
       "      1.0                 0.40\n",
       "      3.0                 0.20\n",
       "h     0.0                 0.50\n",
       "      1.0                 0.25\n",
       "      2.0                 0.25\n",
       "Name: Nombre d'enfants, dtype: float64"
      ]
     },
     "execution_count": 22,
     "metadata": {},
     "output_type": "execute_result"
    }
   ],
   "source": [
    "df.groupby(\"Sexe\")[\"Nombre d'enfants\"].value_counts(normalize=True)"
   ]
  },
  {
   "cell_type": "markdown",
   "metadata": {},
   "source": [
    "#### Que nous dit la moyenne d'enfants par groupes?"
   ]
  },
  {
   "cell_type": "code",
   "execution_count": 23,
   "metadata": {},
   "outputs": [
    {
     "data": {
      "text/plain": [
       "Sexe\n",
       "f    1.00\n",
       "h    0.75\n",
       "Name: Nombre d'enfants, dtype: float64"
      ]
     },
     "execution_count": 23,
     "metadata": {},
     "output_type": "execute_result"
    }
   ],
   "source": [
    "df.groupby(\"Sexe\")[\"Nombre d'enfants\"].mean()"
   ]
  },
  {
   "cell_type": "markdown",
   "metadata": {},
   "source": [
    "#### et le nombre médian d'enfants par groupes?"
   ]
  },
  {
   "cell_type": "code",
   "execution_count": 24,
   "metadata": {},
   "outputs": [
    {
     "data": {
      "text/plain": [
       "Sexe\n",
       "f    1.0\n",
       "h    0.5\n",
       "Name: Nombre d'enfants, dtype: float64"
      ]
     },
     "execution_count": 24,
     "metadata": {},
     "output_type": "execute_result"
    }
   ],
   "source": [
    "df.groupby(\"Sexe\")[\"Nombre d'enfants\"].median()"
   ]
  },
  {
   "cell_type": "markdown",
   "metadata": {},
   "source": [
    "### 2) Et si nous nous groupions par signe astrologique?"
   ]
  },
  {
   "cell_type": "code",
   "execution_count": 25,
   "metadata": {},
   "outputs": [
    {
     "data": {
      "text/plain": [
       "Capricorne    3\n",
       "Gémeaux       3\n",
       "Taureau       2\n",
       "Lion          1\n",
       "Verseau       1\n",
       "Cancer        1\n",
       "Bélier        1\n",
       "Sagittaire    1\n",
       "Name: Signe astrologique, dtype: int64"
      ]
     },
     "execution_count": 25,
     "metadata": {},
     "output_type": "execute_result"
    }
   ],
   "source": [
    "df[\"Signe astrologique\"].value_counts()"
   ]
  },
  {
   "cell_type": "code",
   "execution_count": 26,
   "metadata": {},
   "outputs": [
    {
     "data": {
      "text/plain": [
       "Signe astrologique\n",
       "Bélier        2.0\n",
       "Cancer        3.0\n",
       "Capricorne    3.0\n",
       "Gémeaux       1.0\n",
       "Lion          1.0\n",
       "Sagittaire    0.0\n",
       "Taureau       0.0\n",
       "Verseau       1.0\n",
       "Name: Nombre d'enfants, dtype: float64"
      ]
     },
     "execution_count": 26,
     "metadata": {},
     "output_type": "execute_result"
    }
   ],
   "source": [
    "df.groupby(\"Signe astrologique\")[\"Nombre d'enfants\"].sum()"
   ]
  },
  {
   "cell_type": "markdown",
   "metadata": {},
   "source": [
    "#### Pour plus de lisibilité, nous pourrions afficher la liste précédente sous la forme d'un graphique\n",
    "\n",
    "On groupe par signe astrologique, on demande la somme de chaque signe puis on classe le résultat par ordre décroissant avant de produire le graphique."
   ]
  },
  {
   "cell_type": "code",
   "execution_count": 27,
   "metadata": {},
   "outputs": [
    {
     "data": {
      "text/plain": [
       "<matplotlib.axes._subplots.AxesSubplot at 0x10ca77c18>"
      ]
     },
     "execution_count": 27,
     "metadata": {},
     "output_type": "execute_result"
    },
    {
     "data": {
      "image/png": "[encoded data removed]",
      "text/plain": [
       "<matplotlib.figure.Figure at 0x10ca8e518>"
      ]
     },
     "metadata": {},
     "output_type": "display_data"
    }
   ],
   "source": [
    "df.groupby(\"Signe astrologique\")[\"Nombre d'enfants\"].sum().sort_values().plot(kind=\"barh\")"
   ]
  },
  {
   "cell_type": "markdown",
   "metadata": {},
   "source": [
    "#### Si nous voulions isoler un signe astrologique"
   ]
  },
  {
   "cell_type": "code",
   "execution_count": 28,
   "metadata": {},
   "outputs": [
    {
     "data": {
      "text/html": [
       "<div>\n",
       "<style>\n",
       "    .dataframe thead tr:only-child th {\n",
       "        text-align: right;\n",
       "    }\n",
       "\n",
       "    .dataframe thead th {\n",
       "        text-align: left;\n",
       "    }\n",
       "\n",
       "    .dataframe tbody tr th {\n",
       "        vertical-align: top;\n",
       "    }\n",
       "</style>\n",
       "<table border=\"1\" class=\"dataframe\">\n",
       "  <thead>\n",
       "    <tr style=\"text-align: right;\">\n",
       "      <th></th>\n",
       "      <th>Prénom</th>\n",
       "      <th>Signe astrologique</th>\n",
       "      <th>Date de naissance</th>\n",
       "      <th>Taille en cm</th>\n",
       "      <th>Nombre d'enfants</th>\n",
       "      <th>Sexe</th>\n",
       "      <th>Age</th>\n",
       "    </tr>\n",
       "  </thead>\n",
       "  <tbody>\n",
       "  </tbody>\n",
       "</table>\n",
       "</div>"
      ],
      "text/plain": [
       "Empty DataFrame\n",
       "Columns: [Prénom, Signe astrologique, Date de naissance, Taille en cm, Nombre d'enfants, Sexe, Age]\n",
       "Index: []"
      ]
     },
     "execution_count": 28,
     "metadata": {},
     "output_type": "execute_result"
    }
   ],
   "source": [
    "df[df['Signe astrologique'] == \"Scorpion\"]"
   ]
  },
  {
   "cell_type": "markdown",
   "metadata": {},
   "source": [
    "### 3) Qui sont les plus jeunes? les plus vieux?"
   ]
  },
  {
   "cell_type": "code",
   "execution_count": 29,
   "metadata": {},
   "outputs": [
    {
     "data": {
      "text/html": [
       "<div>\n",
       "<style>\n",
       "    .dataframe thead tr:only-child th {\n",
       "        text-align: right;\n",
       "    }\n",
       "\n",
       "    .dataframe thead th {\n",
       "        text-align: left;\n",
       "    }\n",
       "\n",
       "    .dataframe tbody tr th {\n",
       "        vertical-align: top;\n",
       "    }\n",
       "</style>\n",
       "<table border=\"1\" class=\"dataframe\">\n",
       "  <thead>\n",
       "    <tr style=\"text-align: right;\">\n",
       "      <th></th>\n",
       "      <th>Prénom</th>\n",
       "      <th>Age</th>\n",
       "    </tr>\n",
       "  </thead>\n",
       "  <tbody>\n",
       "    <tr>\n",
       "      <th>10</th>\n",
       "      <td>Paul</td>\n",
       "      <td>28.0</td>\n",
       "    </tr>\n",
       "    <tr>\n",
       "      <th>3</th>\n",
       "      <td>Sophie</td>\n",
       "      <td>29.0</td>\n",
       "    </tr>\n",
       "    <tr>\n",
       "      <th>6</th>\n",
       "      <td>Bartek</td>\n",
       "      <td>30.0</td>\n",
       "    </tr>\n",
       "    <tr>\n",
       "      <th>1</th>\n",
       "      <td>Paul</td>\n",
       "      <td>31.0</td>\n",
       "    </tr>\n",
       "    <tr>\n",
       "      <th>9</th>\n",
       "      <td>Céline</td>\n",
       "      <td>32.0</td>\n",
       "    </tr>\n",
       "    <tr>\n",
       "      <th>2</th>\n",
       "      <td>Mathieu</td>\n",
       "      <td>33.0</td>\n",
       "    </tr>\n",
       "    <tr>\n",
       "      <th>0</th>\n",
       "      <td>Fanny</td>\n",
       "      <td>34.0</td>\n",
       "    </tr>\n",
       "    <tr>\n",
       "      <th>5</th>\n",
       "      <td>Antoine</td>\n",
       "      <td>45.0</td>\n",
       "    </tr>\n",
       "    <tr>\n",
       "      <th>11</th>\n",
       "      <td>Claude</td>\n",
       "      <td>47.0</td>\n",
       "    </tr>\n",
       "    <tr>\n",
       "      <th>4</th>\n",
       "      <td>Philippe</td>\n",
       "      <td>53.0</td>\n",
       "    </tr>\n",
       "    <tr>\n",
       "      <th>7</th>\n",
       "      <td>joelle</td>\n",
       "      <td>54.0</td>\n",
       "    </tr>\n",
       "    <tr>\n",
       "      <th>8</th>\n",
       "      <td>Laurence</td>\n",
       "      <td>54.0</td>\n",
       "    </tr>\n",
       "    <tr>\n",
       "      <th>12</th>\n",
       "      <td>Olivier</td>\n",
       "      <td>56.0</td>\n",
       "    </tr>\n",
       "  </tbody>\n",
       "</table>\n",
       "</div>"
      ],
      "text/plain": [
       "      Prénom   Age\n",
       "10      Paul  28.0\n",
       "3     Sophie  29.0\n",
       "6     Bartek  30.0\n",
       "1       Paul  31.0\n",
       "9     Céline  32.0\n",
       "2    Mathieu  33.0\n",
       "0      Fanny  34.0\n",
       "5    Antoine  45.0\n",
       "11    Claude  47.0\n",
       "4   Philippe  53.0\n",
       "7     joelle  54.0\n",
       "8   Laurence  54.0\n",
       "12   Olivier  56.0"
      ]
     },
     "execution_count": 29,
     "metadata": {},
     "output_type": "execute_result"
    }
   ],
   "source": [
    "df[[\"Prénom\", \"Age\"]].sort_values(by=\"Age\")"
   ]
  },
  {
   "cell_type": "markdown",
   "metadata": {},
   "source": [
    "#### Quelles sont les tranches d'âge les plus représentées?"
   ]
  },
  {
   "cell_type": "code",
   "execution_count": 30,
   "metadata": {},
   "outputs": [
    {
     "data": {
      "text/plain": [
       "<matplotlib.axes._subplots.AxesSubplot at 0x10cb7d898>"
      ]
     },
     "execution_count": 30,
     "metadata": {},
     "output_type": "execute_result"
    },
    {
     "data": {
      "image/png": "[encoded data removed]",
      "text/plain": [
       "<matplotlib.figure.Figure at 0x10ca47358>"
      ]
     },
     "metadata": {},
     "output_type": "display_data"
    }
   ],
   "source": [
    "df['Date de naissance'].dt.year.hist(bins=5)"
   ]
  },
  {
   "cell_type": "markdown",
   "metadata": {},
   "source": [
    "#### Quels sont les mois les plus propices aux naissances?"
   ]
  },
  {
   "cell_type": "code",
   "execution_count": 31,
   "metadata": {},
   "outputs": [
    {
     "data": {
      "text/plain": [
       "<matplotlib.axes._subplots.AxesSubplot at 0x10ccbdcf8>"
      ]
     },
     "execution_count": 31,
     "metadata": {},
     "output_type": "execute_result"
    },
    {
     "data": {
      "image/png": "[encoded data removed]",
      "text/plain": [
       "<matplotlib.figure.Figure at 0x10cce6898>"
      ]
     },
     "metadata": {},
     "output_type": "display_data"
    }
   ],
   "source": [
    "df['Date de naissance'].dt.month.hist(bins=12)"
   ]
  },
  {
   "cell_type": "markdown",
   "metadata": {},
   "source": [
    "#### A la conception?"
   ]
  },
  {
   "cell_type": "code",
   "execution_count": 32,
   "metadata": {},
   "outputs": [
    {
     "name": "stdout",
     "output_type": "stream",
     "text": [
      "7\n",
      "10\n",
      "8\n",
      "3\n",
      "3\n",
      "6\n",
      "3\n",
      "10\n",
      "5\n",
      "5\n",
      "9\n",
      "7\n",
      "10\n"
     ]
    }
   ],
   "source": [
    "for index, row in df.iterrows():\n",
    "    print((row['Date de naissance'].month - 9) % 12)"
   ]
  },
  {
   "cell_type": "code",
   "execution_count": 33,
   "metadata": {},
   "outputs": [
    {
     "data": {
      "text/plain": [
       "<matplotlib.axes._subplots.AxesSubplot at 0x10cbe6630>"
      ]
     },
     "execution_count": 33,
     "metadata": {},
     "output_type": "execute_result"
    },
    {
     "data": {
      "image/png": "[encoded data removed]",
      "text/plain": [
       "<matplotlib.figure.Figure at 0x10cdb4c50>"
      ]
     },
     "metadata": {},
     "output_type": "display_data"
    }
   ],
   "source": [
    "(pd.Series((df['Date de naissance'].dt.month - 9) % 12)\n",
    " .sort_values()\n",
    " .value_counts(sort=False)\n",
    " .plot(kind=\"barh\"))"
   ]
  },
  {
   "cell_type": "markdown",
   "metadata": {},
   "source": [
    "#### Que peut-on tirer des jours de naissance?"
   ]
  },
  {
   "cell_type": "code",
   "execution_count": 34,
   "metadata": {},
   "outputs": [
    {
     "data": {
      "text/plain": [
       "<matplotlib.axes._subplots.AxesSubplot at 0x10cea01d0>"
      ]
     },
     "execution_count": 34,
     "metadata": {},
     "output_type": "execute_result"
    },
    {
     "data": {
      "image/png": "[encoded data removed]",
      "text/plain": [
       "<matplotlib.figure.Figure at 0x10ce834a8>"
      ]
     },
     "metadata": {},
     "output_type": "display_data"
    }
   ],
   "source": [
    "df['Date de naissance'].dt.weekday.hist(bins=7)"
   ]
  },
  {
   "cell_type": "markdown",
   "metadata": {},
   "source": [
    "#### Affichons un histogramme des âges divisés en cinq tranches"
   ]
  },
  {
   "cell_type": "code",
   "execution_count": 35,
   "metadata": {},
   "outputs": [
    {
     "data": {
      "text/plain": [
       "<matplotlib.axes._subplots.AxesSubplot at 0x10cf8bf28>"
      ]
     },
     "execution_count": 35,
     "metadata": {},
     "output_type": "execute_result"
    },
    {
     "data": {
      "image/png": "[encoded data removed]",
      "text/plain": [
       "<matplotlib.figure.Figure at 0x10ca77d68>"
      ]
     },
     "metadata": {},
     "output_type": "display_data"
    }
   ],
   "source": [
    "df['Age'].hist(bins=5)"
   ]
  },
  {
   "cell_type": "markdown",
   "metadata": {},
   "source": [
    "### Age moyen"
   ]
  },
  {
   "cell_type": "code",
   "execution_count": 36,
   "metadata": {},
   "outputs": [
    {
     "data": {
      "text/plain": [
       "40.46153846153846"
      ]
     },
     "execution_count": 36,
     "metadata": {},
     "output_type": "execute_result"
    }
   ],
   "source": [
    "df['Age'].mean()"
   ]
  },
  {
   "cell_type": "markdown",
   "metadata": {},
   "source": [
    "### Age médian"
   ]
  },
  {
   "cell_type": "code",
   "execution_count": 37,
   "metadata": {},
   "outputs": [
    {
     "data": {
      "text/plain": [
       "34.0"
      ]
     },
     "execution_count": 37,
     "metadata": {},
     "output_type": "execute_result"
    }
   ],
   "source": [
    "df['Age'].median()"
   ]
  },
  {
   "cell_type": "markdown",
   "metadata": {},
   "source": [
    "### Repartissons-nous en cinq groupes d'âge\n",
    "Discrétiser notre série d'âges en 5 quantiles grâce à la fonction qcut"
   ]
  },
  {
   "cell_type": "code",
   "execution_count": 38,
   "metadata": {},
   "outputs": [
    {
     "data": {
      "text/plain": [
       "(0     2\n",
       " 1     1\n",
       " 2     2\n",
       " 3     0\n",
       " 4     3\n",
       " 5     2\n",
       " 6     0\n",
       " 7     4\n",
       " 8     4\n",
       " 9     1\n",
       " 10    0\n",
       " 11    3\n",
       " 12    4\n",
       " Name: Age, dtype: int64, array([ 28. ,  30.4,  32.8,  45.4,  53.6,  56. ]))"
      ]
     },
     "execution_count": 38,
     "metadata": {},
     "output_type": "execute_result"
    }
   ],
   "source": [
    "pd.qcut(df['Age'], 5, labels=False, retbins=True)"
   ]
  },
  {
   "cell_type": "markdown",
   "metadata": {},
   "source": [
    "#### La liste précédente ne nous donne pas d'autre information que l'index de la ligne et le numéro de son groupe.\n",
    "Ajoutons ce numéro, qui représente un quintile, à notre jeu de données."
   ]
  },
  {
   "cell_type": "code",
   "execution_count": 40,
   "metadata": {},
   "outputs": [
    {
     "data": {
      "text/html": [
       "<div>\n",
       "<style>\n",
       "    .dataframe thead tr:only-child th {\n",
       "        text-align: right;\n",
       "    }\n",
       "\n",
       "    .dataframe thead th {\n",
       "        text-align: left;\n",
       "    }\n",
       "\n",
       "    .dataframe tbody tr th {\n",
       "        vertical-align: top;\n",
       "    }\n",
       "</style>\n",
       "<table border=\"1\" class=\"dataframe\">\n",
       "  <thead>\n",
       "    <tr style=\"text-align: right;\">\n",
       "      <th></th>\n",
       "      <th>Prénom</th>\n",
       "      <th>Signe astrologique</th>\n",
       "      <th>Date de naissance</th>\n",
       "      <th>Taille en cm</th>\n",
       "      <th>Nombre d'enfants</th>\n",
       "      <th>Sexe</th>\n",
       "      <th>Age</th>\n",
       "      <th>Groupe d'âge</th>\n",
       "    </tr>\n",
       "  </thead>\n",
       "  <tbody>\n",
       "    <tr>\n",
       "      <th>0</th>\n",
       "      <td>Fanny</td>\n",
       "      <td>Taureau</td>\n",
       "      <td>1983-04-05</td>\n",
       "      <td>160.0</td>\n",
       "      <td>0.0</td>\n",
       "      <td>f</td>\n",
       "      <td>34.0</td>\n",
       "      <td>1</td>\n",
       "    </tr>\n",
       "    <tr>\n",
       "      <th>1</th>\n",
       "      <td>Paul</td>\n",
       "      <td>Sagittaire</td>\n",
       "      <td>1986-07-09</td>\n",
       "      <td>176.0</td>\n",
       "      <td>0.0</td>\n",
       "      <td>h</td>\n",
       "      <td>31.0</td>\n",
       "      <td>0</td>\n",
       "    </tr>\n",
       "    <tr>\n",
       "      <th>2</th>\n",
       "      <td>Mathieu</td>\n",
       "      <td>Taureau</td>\n",
       "      <td>1984-05-05</td>\n",
       "      <td>178.0</td>\n",
       "      <td>0.0</td>\n",
       "      <td>h</td>\n",
       "      <td>33.0</td>\n",
       "      <td>1</td>\n",
       "    </tr>\n",
       "    <tr>\n",
       "      <th>3</th>\n",
       "      <td>Sophie</td>\n",
       "      <td>Capricorne</td>\n",
       "      <td>1987-12-01</td>\n",
       "      <td>163.0</td>\n",
       "      <td>1.0</td>\n",
       "      <td>f</td>\n",
       "      <td>29.0</td>\n",
       "      <td>0</td>\n",
       "    </tr>\n",
       "    <tr>\n",
       "      <th>4</th>\n",
       "      <td>Philippe</td>\n",
       "      <td>Capricorne</td>\n",
       "      <td>1963-12-27</td>\n",
       "      <td>175.0</td>\n",
       "      <td>2.0</td>\n",
       "      <td>h</td>\n",
       "      <td>53.0</td>\n",
       "      <td>2</td>\n",
       "    </tr>\n",
       "  </tbody>\n",
       "</table>\n",
       "</div>"
      ],
      "text/plain": [
       "     Prénom Signe astrologique Date de naissance  Taille en cm  \\\n",
       "0     Fanny            Taureau        1983-04-05         160.0   \n",
       "1      Paul         Sagittaire        1986-07-09         176.0   \n",
       "2   Mathieu            Taureau        1984-05-05         178.0   \n",
       "3    Sophie         Capricorne        1987-12-01         163.0   \n",
       "4  Philippe         Capricorne        1963-12-27         175.0   \n",
       "\n",
       "   Nombre d'enfants Sexe   Age  Groupe d'âge  \n",
       "0               0.0    f  34.0             1  \n",
       "1               0.0    h  31.0             0  \n",
       "2               0.0    h  33.0             1  \n",
       "3               1.0    f  29.0             0  \n",
       "4               2.0    h  53.0             2  "
      ]
     },
     "execution_count": 40,
     "metadata": {},
     "output_type": "execute_result"
    }
   ],
   "source": [
    "df[\"Groupe d'âge\"] = pd.qcut(df['Age'], 4, labels=False)\n",
    "df.head()"
   ]
  },
  {
   "cell_type": "markdown",
   "metadata": {},
   "source": [
    "#### Qui appartient au premier groupe d'âge (les plus jeunes)?"
   ]
  },
  {
   "cell_type": "code",
   "execution_count": 41,
   "metadata": {},
   "outputs": [
    {
     "data": {
      "text/html": [
       "<div>\n",
       "<style>\n",
       "    .dataframe thead tr:only-child th {\n",
       "        text-align: right;\n",
       "    }\n",
       "\n",
       "    .dataframe thead th {\n",
       "        text-align: left;\n",
       "    }\n",
       "\n",
       "    .dataframe tbody tr th {\n",
       "        vertical-align: top;\n",
       "    }\n",
       "</style>\n",
       "<table border=\"1\" class=\"dataframe\">\n",
       "  <thead>\n",
       "    <tr style=\"text-align: right;\">\n",
       "      <th></th>\n",
       "      <th>Prénom</th>\n",
       "      <th>Signe astrologique</th>\n",
       "      <th>Date de naissance</th>\n",
       "      <th>Taille en cm</th>\n",
       "      <th>Nombre d'enfants</th>\n",
       "      <th>Sexe</th>\n",
       "      <th>Age</th>\n",
       "      <th>Groupe d'âge</th>\n",
       "    </tr>\n",
       "  </thead>\n",
       "  <tbody>\n",
       "    <tr>\n",
       "      <th>1</th>\n",
       "      <td>Paul</td>\n",
       "      <td>Sagittaire</td>\n",
       "      <td>1986-07-09</td>\n",
       "      <td>176.0</td>\n",
       "      <td>0.0</td>\n",
       "      <td>h</td>\n",
       "      <td>31.0</td>\n",
       "      <td>0</td>\n",
       "    </tr>\n",
       "    <tr>\n",
       "      <th>3</th>\n",
       "      <td>Sophie</td>\n",
       "      <td>Capricorne</td>\n",
       "      <td>1987-12-01</td>\n",
       "      <td>163.0</td>\n",
       "      <td>1.0</td>\n",
       "      <td>f</td>\n",
       "      <td>29.0</td>\n",
       "      <td>0</td>\n",
       "    </tr>\n",
       "    <tr>\n",
       "      <th>6</th>\n",
       "      <td>Bartek</td>\n",
       "      <td>Capricorne</td>\n",
       "      <td>1986-12-22</td>\n",
       "      <td>180.0</td>\n",
       "      <td>0.0</td>\n",
       "      <td>h</td>\n",
       "      <td>30.0</td>\n",
       "      <td>0</td>\n",
       "    </tr>\n",
       "    <tr>\n",
       "      <th>10</th>\n",
       "      <td>Paul</td>\n",
       "      <td>Gémeaux</td>\n",
       "      <td>1989-06-17</td>\n",
       "      <td>176.0</td>\n",
       "      <td>0.0</td>\n",
       "      <td>h</td>\n",
       "      <td>28.0</td>\n",
       "      <td>0</td>\n",
       "    </tr>\n",
       "  </tbody>\n",
       "</table>\n",
       "</div>"
      ],
      "text/plain": [
       "    Prénom Signe astrologique Date de naissance  Taille en cm  \\\n",
       "1     Paul         Sagittaire        1986-07-09         176.0   \n",
       "3   Sophie         Capricorne        1987-12-01         163.0   \n",
       "6   Bartek         Capricorne        1986-12-22         180.0   \n",
       "10    Paul            Gémeaux        1989-06-17         176.0   \n",
       "\n",
       "    Nombre d'enfants Sexe   Age  Groupe d'âge  \n",
       "1                0.0    h  31.0             0  \n",
       "3                1.0    f  29.0             0  \n",
       "6                0.0    h  30.0             0  \n",
       "10               0.0    h  28.0             0  "
      ]
     },
     "execution_count": 41,
     "metadata": {},
     "output_type": "execute_result"
    }
   ],
   "source": [
    "df[df[\"Groupe d'âge\"] == 0]"
   ]
  },
  {
   "cell_type": "markdown",
   "metadata": {},
   "source": [
    "#### Les jeunes sont-ils plus grands que les moins jeunes?"
   ]
  },
  {
   "cell_type": "code",
   "execution_count": 42,
   "metadata": {},
   "outputs": [
    {
     "data": {
      "text/plain": [
       "<matplotlib.axes._subplots.AxesSubplot at 0x10d0006a0>"
      ]
     },
     "execution_count": 42,
     "metadata": {},
     "output_type": "execute_result"
    },
    {
     "data": {
      "image/png": "[encoded data removed]",
      "text/plain": [
       "<matplotlib.figure.Figure at 0x10cff4fd0>"
      ]
     },
     "metadata": {},
     "output_type": "display_data"
    }
   ],
   "source": [
    "df.groupby(\"Groupe d'âge\")[\"Taille en cm\"].median().plot()"
   ]
  },
  {
   "cell_type": "code",
   "execution_count": 43,
   "metadata": {},
   "outputs": [
    {
     "data": {
      "text/plain": [
       "<matplotlib.axes._subplots.AxesSubplot at 0x10d0d8860>"
      ]
     },
     "execution_count": 43,
     "metadata": {},
     "output_type": "execute_result"
    },
    {
     "data": {
      "image/png": "[encoded data removed]",
      "text/plain": [
       "<matplotlib.figure.Figure at 0x10cebb198>"
      ]
     },
     "metadata": {},
     "output_type": "display_data"
    }
   ],
   "source": [
    "df.rolling(12, on='Date de naissance', min_periods=1).mean().plot(x=\"Date de naissance\", y=\"Taille en cm\")"
   ]
  },
  {
   "cell_type": "markdown",
   "metadata": {},
   "source": [
    "### 4) A partir de quel âge notre échantillon commence-t-il à fonder une famille?\n",
    "Quel est le degré de corrélation entre les âges et le nombre d'enfants"
   ]
  },
  {
   "cell_type": "code",
   "execution_count": 44,
   "metadata": {},
   "outputs": [
    {
     "data": {
      "text/plain": [
       "<matplotlib.axes._subplots.AxesSubplot at 0x10d1e87f0>"
      ]
     },
     "execution_count": 44,
     "metadata": {},
     "output_type": "execute_result"
    },
    {
     "data": {
      "image/png": "[encoded data removed]",
      "text/plain": [
       "<matplotlib.figure.Figure at 0x10cd6bf28>"
      ]
     },
     "metadata": {},
     "output_type": "display_data"
    }
   ],
   "source": [
    "df.plot(kind=\"scatter\", x=\"Age\", y=\"Nombre d'enfants\")"
   ]
  },
  {
   "cell_type": "code",
   "execution_count": 45,
   "metadata": {},
   "outputs": [
    {
     "data": {
      "text/plain": [
       "<matplotlib.axes._subplots.AxesSubplot at 0x10cfc3898>"
      ]
     },
     "execution_count": 45,
     "metadata": {},
     "output_type": "execute_result"
    },
    {
     "data": {
      "image/png": "[encoded data removed]",
      "text/plain": [
       "<matplotlib.figure.Figure at 0x10d217668>"
      ]
     },
     "metadata": {},
     "output_type": "display_data"
    }
   ],
   "source": [
    "colors_list = []\n",
    "for index, row in df.iterrows():\n",
    "    if row['Sexe'] == \"f\":\n",
    "        colors_list.append(\"#ff3388\")\n",
    "    else:\n",
    "        colors_list.append(\"#333333\")\n",
    "\n",
    "df.plot(kind=\"scatter\", x=\"Age\", y=\"Nombre d'enfants\", color=colors_list)"
   ]
  },
  {
   "cell_type": "markdown",
   "metadata": {},
   "source": [
    "### 5) Qui est susceptible de bien s'entendre avec qui?"
   ]
  },
  {
   "cell_type": "markdown",
   "metadata": {},
   "source": [
    "#### Écart normalisé entre chaque valeur et la moyenne"
   ]
  },
  {
   "cell_type": "code",
   "execution_count": 46,
   "metadata": {},
   "outputs": [
    {
     "data": {
      "text/html": [
       "<div>\n",
       "<style>\n",
       "    .dataframe thead tr:only-child th {\n",
       "        text-align: right;\n",
       "    }\n",
       "\n",
       "    .dataframe thead th {\n",
       "        text-align: left;\n",
       "    }\n",
       "\n",
       "    .dataframe tbody tr th {\n",
       "        vertical-align: top;\n",
       "    }\n",
       "</style>\n",
       "<table border=\"1\" class=\"dataframe\">\n",
       "  <thead>\n",
       "    <tr style=\"text-align: right;\">\n",
       "      <th></th>\n",
       "      <th>Age</th>\n",
       "      <th>Taille en cm</th>\n",
       "      <th>Nombre d'enfants</th>\n",
       "    </tr>\n",
       "  </thead>\n",
       "  <tbody>\n",
       "    <tr>\n",
       "      <th>0</th>\n",
       "      <td>-0.230769</td>\n",
       "      <td>-0.417949</td>\n",
       "      <td>-0.282051</td>\n",
       "    </tr>\n",
       "    <tr>\n",
       "      <th>1</th>\n",
       "      <td>-0.337912</td>\n",
       "      <td>0.115385</td>\n",
       "      <td>-0.282051</td>\n",
       "    </tr>\n",
       "    <tr>\n",
       "      <th>2</th>\n",
       "      <td>-0.266484</td>\n",
       "      <td>0.182051</td>\n",
       "      <td>-0.282051</td>\n",
       "    </tr>\n",
       "    <tr>\n",
       "      <th>3</th>\n",
       "      <td>-0.409341</td>\n",
       "      <td>-0.317949</td>\n",
       "      <td>0.051282</td>\n",
       "    </tr>\n",
       "    <tr>\n",
       "      <th>4</th>\n",
       "      <td>0.447802</td>\n",
       "      <td>0.082051</td>\n",
       "      <td>0.384615</td>\n",
       "    </tr>\n",
       "  </tbody>\n",
       "</table>\n",
       "</div>"
      ],
      "text/plain": [
       "        Age  Taille en cm  Nombre d'enfants\n",
       "0 -0.230769     -0.417949         -0.282051\n",
       "1 -0.337912      0.115385         -0.282051\n",
       "2 -0.266484      0.182051         -0.282051\n",
       "3 -0.409341     -0.317949          0.051282\n",
       "4  0.447802      0.082051          0.384615"
      ]
     },
     "execution_count": 46,
     "metadata": {},
     "output_type": "execute_result"
    }
   ],
   "source": [
    "df_values = df[[\"Age\", \"Taille en cm\", \"Nombre d'enfants\"]]\n",
    "df_norm = (df_values - df_values.mean()) / (df_values.max() - df_values.min())\n",
    "df_norm.head()"
   ]
  },
  {
   "cell_type": "markdown",
   "metadata": {},
   "source": [
    "#### Ecart des âges classé par ordre croissant"
   ]
  },
  {
   "cell_type": "code",
   "execution_count": 47,
   "metadata": {},
   "outputs": [
    {
     "data": {
      "text/html": [
       "<div>\n",
       "<style>\n",
       "    .dataframe thead tr:only-child th {\n",
       "        text-align: right;\n",
       "    }\n",
       "\n",
       "    .dataframe thead th {\n",
       "        text-align: left;\n",
       "    }\n",
       "\n",
       "    .dataframe tbody tr th {\n",
       "        vertical-align: top;\n",
       "    }\n",
       "</style>\n",
       "<table border=\"1\" class=\"dataframe\">\n",
       "  <thead>\n",
       "    <tr style=\"text-align: right;\">\n",
       "      <th></th>\n",
       "      <th>Age</th>\n",
       "      <th>Taille en cm</th>\n",
       "      <th>Nombre d'enfants</th>\n",
       "    </tr>\n",
       "  </thead>\n",
       "  <tbody>\n",
       "    <tr>\n",
       "      <th>10</th>\n",
       "      <td>-0.445055</td>\n",
       "      <td>0.115385</td>\n",
       "      <td>-0.282051</td>\n",
       "    </tr>\n",
       "    <tr>\n",
       "      <th>3</th>\n",
       "      <td>-0.409341</td>\n",
       "      <td>-0.317949</td>\n",
       "      <td>0.051282</td>\n",
       "    </tr>\n",
       "    <tr>\n",
       "      <th>6</th>\n",
       "      <td>-0.373626</td>\n",
       "      <td>0.248718</td>\n",
       "      <td>-0.282051</td>\n",
       "    </tr>\n",
       "    <tr>\n",
       "      <th>1</th>\n",
       "      <td>-0.337912</td>\n",
       "      <td>0.115385</td>\n",
       "      <td>-0.282051</td>\n",
       "    </tr>\n",
       "    <tr>\n",
       "      <th>9</th>\n",
       "      <td>-0.302198</td>\n",
       "      <td>-0.584615</td>\n",
       "      <td>-0.282051</td>\n",
       "    </tr>\n",
       "    <tr>\n",
       "      <th>2</th>\n",
       "      <td>-0.266484</td>\n",
       "      <td>0.182051</td>\n",
       "      <td>-0.282051</td>\n",
       "    </tr>\n",
       "    <tr>\n",
       "      <th>0</th>\n",
       "      <td>-0.230769</td>\n",
       "      <td>-0.417949</td>\n",
       "      <td>-0.282051</td>\n",
       "    </tr>\n",
       "    <tr>\n",
       "      <th>5</th>\n",
       "      <td>0.162088</td>\n",
       "      <td>0.415385</td>\n",
       "      <td>0.051282</td>\n",
       "    </tr>\n",
       "    <tr>\n",
       "      <th>11</th>\n",
       "      <td>0.233516</td>\n",
       "      <td>0.248718</td>\n",
       "      <td>0.384615</td>\n",
       "    </tr>\n",
       "    <tr>\n",
       "      <th>4</th>\n",
       "      <td>0.447802</td>\n",
       "      <td>0.082051</td>\n",
       "      <td>0.384615</td>\n",
       "    </tr>\n",
       "    <tr>\n",
       "      <th>7</th>\n",
       "      <td>0.483516</td>\n",
       "      <td>-0.084615</td>\n",
       "      <td>0.717949</td>\n",
       "    </tr>\n",
       "    <tr>\n",
       "      <th>8</th>\n",
       "      <td>0.483516</td>\n",
       "      <td>-0.084615</td>\n",
       "      <td>0.051282</td>\n",
       "    </tr>\n",
       "    <tr>\n",
       "      <th>12</th>\n",
       "      <td>0.554945</td>\n",
       "      <td>0.082051</td>\n",
       "      <td>0.051282</td>\n",
       "    </tr>\n",
       "  </tbody>\n",
       "</table>\n",
       "</div>"
      ],
      "text/plain": [
       "         Age  Taille en cm  Nombre d'enfants\n",
       "10 -0.445055      0.115385         -0.282051\n",
       "3  -0.409341     -0.317949          0.051282\n",
       "6  -0.373626      0.248718         -0.282051\n",
       "1  -0.337912      0.115385         -0.282051\n",
       "9  -0.302198     -0.584615         -0.282051\n",
       "2  -0.266484      0.182051         -0.282051\n",
       "0  -0.230769     -0.417949         -0.282051\n",
       "5   0.162088      0.415385          0.051282\n",
       "11  0.233516      0.248718          0.384615\n",
       "4   0.447802      0.082051          0.384615\n",
       "7   0.483516     -0.084615          0.717949\n",
       "8   0.483516     -0.084615          0.051282\n",
       "12  0.554945      0.082051          0.051282"
      ]
     },
     "execution_count": 47,
     "metadata": {},
     "output_type": "execute_result"
    }
   ],
   "source": [
    "df_norm.sort_values(by=\"Age\")"
   ]
  },
  {
   "cell_type": "markdown",
   "metadata": {},
   "source": [
    "#### Difficile de lire le tableau ci-dessus. Essayons d'en faire un graphique."
   ]
  },
  {
   "cell_type": "code",
   "execution_count": 53,
   "metadata": {},
   "outputs": [
    {
     "data": {
      "image/png": "[encoded data removed]",
      "text/plain": [
       "<matplotlib.figure.Figure at 0x10d727518>"
      ]
     },
     "metadata": {},
     "output_type": "display_data"
    }
   ],
   "source": [
    "# Le canevas du graphique\n",
    "fig, ax = plt.subplots()\n",
    "heatmap = ax.pcolor(df_norm, cmap=plt.cm.Blues, alpha=0.8)\n",
    "\n",
    "# Format\n",
    "fig = plt.gcf()\n",
    "fig.set_size_inches(2, 6)\n",
    "\n",
    "# Masque le cadre\n",
    "ax.set_frame_on(False)\n",
    "\n",
    "# Positionne les ticks\n",
    "ax.set_yticks(np.arange(df.shape[0]) + 0.5, minor=False)\n",
    "ax.set_xticks(np.arange(df_norm.shape[1]) + 0.5, minor=False)\n",
    "\n",
    "# Donne l'apparence d'un tableau\n",
    "ax.invert_yaxis()\n",
    "ax.xaxis.tick_top()\n",
    "\n",
    "# Définit les labels\n",
    "ax.set_xticklabels([\"Age\", \"Taille en cm\", \"Nombre d'enfants\"], minor=False)\n",
    "ax.set_yticklabels(df[\"Prénom\"], minor=False)\n",
    "\n",
    "# Pivote les labels du dessus\n",
    "plt.xticks(rotation=90)\n",
    "\n",
    "ax.grid(False)"
   ]
  },
  {
   "cell_type": "markdown",
   "metadata": {},
   "source": [
    "### 6) Qui sort du lot?"
   ]
  },
  {
   "cell_type": "code",
   "execution_count": 54,
   "metadata": {},
   "outputs": [
    {
     "data": {
      "text/plain": [
       "7     0.428694\n",
       "9     0.389621\n",
       "0     0.310256\n",
       "4     0.304823\n",
       "6     0.301465\n",
       "11    0.288950\n",
       "10    0.280830\n",
       "3     0.259524\n",
       "1     0.245116\n",
       "2     0.243529\n",
       "12    0.229426\n",
       "5     0.209585\n",
       "8     0.206471\n",
       "dtype: float64"
      ]
     },
     "execution_count": 54,
     "metadata": {},
     "output_type": "execute_result"
    }
   ],
   "source": [
    "moyenne = (abs(df_norm[\"Taille en cm\"]) \n",
    "           + abs(df_norm[\"Nombre d'enfants\"])\n",
    "           + abs(df_norm[\"Age\"])) / 3\n",
    "\n",
    "moyenne.sort_values(ascending=False)"
   ]
  },
  {
   "cell_type": "markdown",
   "metadata": {},
   "source": [
    "#### On veut des noms!"
   ]
  },
  {
   "cell_type": "code",
   "execution_count": 55,
   "metadata": {},
   "outputs": [
    {
     "data": {
      "text/html": [
       "<div>\n",
       "<style>\n",
       "    .dataframe thead tr:only-child th {\n",
       "        text-align: right;\n",
       "    }\n",
       "\n",
       "    .dataframe thead th {\n",
       "        text-align: left;\n",
       "    }\n",
       "\n",
       "    .dataframe tbody tr th {\n",
       "        vertical-align: top;\n",
       "    }\n",
       "</style>\n",
       "<table border=\"1\" class=\"dataframe\">\n",
       "  <thead>\n",
       "    <tr style=\"text-align: right;\">\n",
       "      <th></th>\n",
       "      <th>0</th>\n",
       "      <th>nom</th>\n",
       "    </tr>\n",
       "  </thead>\n",
       "  <tbody>\n",
       "    <tr>\n",
       "      <th>7</th>\n",
       "      <td>0.428694</td>\n",
       "      <td>joelle</td>\n",
       "    </tr>\n",
       "    <tr>\n",
       "      <th>9</th>\n",
       "      <td>0.389621</td>\n",
       "      <td>Céline</td>\n",
       "    </tr>\n",
       "    <tr>\n",
       "      <th>0</th>\n",
       "      <td>0.310256</td>\n",
       "      <td>Fanny</td>\n",
       "    </tr>\n",
       "    <tr>\n",
       "      <th>4</th>\n",
       "      <td>0.304823</td>\n",
       "      <td>Philippe</td>\n",
       "    </tr>\n",
       "    <tr>\n",
       "      <th>6</th>\n",
       "      <td>0.301465</td>\n",
       "      <td>Bartek</td>\n",
       "    </tr>\n",
       "    <tr>\n",
       "      <th>11</th>\n",
       "      <td>0.288950</td>\n",
       "      <td>Claude</td>\n",
       "    </tr>\n",
       "    <tr>\n",
       "      <th>10</th>\n",
       "      <td>0.280830</td>\n",
       "      <td>Paul</td>\n",
       "    </tr>\n",
       "    <tr>\n",
       "      <th>3</th>\n",
       "      <td>0.259524</td>\n",
       "      <td>Sophie</td>\n",
       "    </tr>\n",
       "    <tr>\n",
       "      <th>1</th>\n",
       "      <td>0.245116</td>\n",
       "      <td>Paul</td>\n",
       "    </tr>\n",
       "    <tr>\n",
       "      <th>2</th>\n",
       "      <td>0.243529</td>\n",
       "      <td>Mathieu</td>\n",
       "    </tr>\n",
       "    <tr>\n",
       "      <th>12</th>\n",
       "      <td>0.229426</td>\n",
       "      <td>Olivier</td>\n",
       "    </tr>\n",
       "    <tr>\n",
       "      <th>5</th>\n",
       "      <td>0.209585</td>\n",
       "      <td>Antoine</td>\n",
       "    </tr>\n",
       "    <tr>\n",
       "      <th>8</th>\n",
       "      <td>0.206471</td>\n",
       "      <td>Laurence</td>\n",
       "    </tr>\n",
       "  </tbody>\n",
       "</table>\n",
       "</div>"
      ],
      "text/plain": [
       "           0       nom\n",
       "7   0.428694    joelle\n",
       "9   0.389621    Céline\n",
       "0   0.310256     Fanny\n",
       "4   0.304823  Philippe\n",
       "6   0.301465    Bartek\n",
       "11  0.288950    Claude\n",
       "10  0.280830      Paul\n",
       "3   0.259524    Sophie\n",
       "1   0.245116      Paul\n",
       "2   0.243529   Mathieu\n",
       "12  0.229426   Olivier\n",
       "5   0.209585   Antoine\n",
       "8   0.206471  Laurence"
      ]
     },
     "execution_count": 55,
     "metadata": {},
     "output_type": "execute_result"
    }
   ],
   "source": [
    "df_moyenne = pd.DataFrame(moyenne)\n",
    "df_moyenne['nom'] = df['Prénom']\n",
    "df_moyenne.sort_values(by=0, ascending=False)"
   ]
  },
  {
   "cell_type": "code",
   "execution_count": null,
   "metadata": {
    "collapsed": true
   },
   "outputs": [],
   "source": []
  }
 ],
 "metadata": {
  "kernelspec": {
   "display_name": "Python 3",
   "language": "python",
   "name": "python3"
  },
  "language_info": {
   "codemirror_mode": {
    "name": "ipython",
    "version": 3
   },
   "file_extension": ".py",
   "mimetype": "text/x-python",
   "name": "python",
   "nbconvert_exporter": "python",
   "pygments_lexer": "ipython3",
   "version": "3.6.3"
  }
 },
 "nbformat": 4,
 "nbformat_minor": 2
}
