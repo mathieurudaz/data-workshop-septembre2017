{
 "cells": [
  {
   "cell_type": "markdown",
   "metadata": {},
   "source": [
    "# Travailler avec un jeu de données"
   ]
  },
  {
   "cell_type": "markdown",
   "metadata": {},
   "source": [
    "## A) Préparation"
   ]
  },
  {
   "cell_type": "markdown",
   "metadata": {},
   "source": [
    "### 1) On s'équipe des outils dont nous aurons besoin\n",
    "\n",
    "- La bibliothèque d'analyse de données\n",
    "- La bibliothèque destinée à tracer et visualiser des données sous forme de graphiques\n",
    "- La bibliothèque de gestion des dates"
   ]
  },
  {
   "cell_type": "code",
   "execution_count": 585,
   "metadata": {
    "collapsed": true
   },
   "outputs": [],
   "source": [
    "import pandas as pd\n",
    "import matplotlib.pyplot as plt\n",
    "import datetime\n",
    "%matplotlib inline"
   ]
  },
  {
   "cell_type": "markdown",
   "metadata": {},
   "source": [
    "### 2) Puis on se connecte à notre base de données\n",
    "\n",
    "La base de données des participants:  \n",
    "https://docs.google.com/a/tamedia.com/spreadsheets/d/1KtvS7DVQ5qzK6LHWt5npAcZBhBsTlTfJkzOdN7E03DA/edit?usp=sharing"
   ]
  },
  {
   "cell_type": "markdown",
   "metadata": {},
   "source": [
    "#### Charge la base de données directement depuis Google\n",
    "\n",
    "On remplace toutes les valeurs nulles - par exemple, si un utilisateur à répondu *aucun* dans la cellule *Nombre d'enfants* - par zéro."
   ]
  },
  {
   "cell_type": "code",
   "execution_count": 586,
   "metadata": {},
   "outputs": [],
   "source": [
    "spreadsheet_url = 'https://docs.google.com/spreadsheets/d/e/2PACX-1vRwQgWrUdT_NYxOK7uSzYTbwU445CWe18-0M0KJIJFShWBf-jtzVU9B7PzKsV5yKbYULDNaNUlLtxmj/pub?gid=0&single=true&output=csv'\n",
    "\n",
    "df = pd.read_csv(\n",
    "    spreadsheet_url,\n",
    "    error_bad_lines=False,\n",
    "    na_values=[0, \"Non\", \"non\", \"NoN\", \"NON\", \"Aucun\", \"aucun\"])"
   ]
  },
  {
   "cell_type": "markdown",
   "metadata": {},
   "source": [
    "#### Le jeu de données complet"
   ]
  },
  {
   "cell_type": "code",
   "execution_count": 675,
   "metadata": {},
   "outputs": [
    {
     "data": {
      "text/html": [
       "<div>\n",
       "<style>\n",
       "    .dataframe thead tr:only-child th {\n",
       "        text-align: right;\n",
       "    }\n",
       "\n",
       "    .dataframe thead th {\n",
       "        text-align: left;\n",
       "    }\n",
       "\n",
       "    .dataframe tbody tr th {\n",
       "        vertical-align: top;\n",
       "    }\n",
       "</style>\n",
       "<table border=\"1\" class=\"dataframe\">\n",
       "  <thead>\n",
       "    <tr style=\"text-align: right;\">\n",
       "      <th></th>\n",
       "      <th>Prénom</th>\n",
       "      <th>Signe astrologique</th>\n",
       "      <th>Date de naissance</th>\n",
       "      <th>Taille en cm</th>\n",
       "      <th>Nombre d'enfants</th>\n",
       "      <th>Sexe</th>\n",
       "      <th>Age</th>\n",
       "      <th>Groupe d'âge</th>\n",
       "    </tr>\n",
       "  </thead>\n",
       "  <tbody>\n",
       "    <tr>\n",
       "      <th>0</th>\n",
       "      <td>lily</td>\n",
       "      <td>Gémeaux</td>\n",
       "      <td>1962-06-22</td>\n",
       "      <td>176.0</td>\n",
       "      <td>0.0</td>\n",
       "      <td>f</td>\n",
       "      <td>55.0</td>\n",
       "      <td>1</td>\n",
       "    </tr>\n",
       "    <tr>\n",
       "      <th>1</th>\n",
       "      <td>anna</td>\n",
       "      <td>Taureau</td>\n",
       "      <td>1960-06-12</td>\n",
       "      <td>178.0</td>\n",
       "      <td>0.0</td>\n",
       "      <td>f</td>\n",
       "      <td>57.0</td>\n",
       "      <td>2</td>\n",
       "    </tr>\n",
       "    <tr>\n",
       "      <th>2</th>\n",
       "      <td>jayden</td>\n",
       "      <td>Taureau</td>\n",
       "      <td>1950-02-19</td>\n",
       "      <td>162.0</td>\n",
       "      <td>0.0</td>\n",
       "      <td>h</td>\n",
       "      <td>67.0</td>\n",
       "      <td>3</td>\n",
       "    </tr>\n",
       "    <tr>\n",
       "      <th>3</th>\n",
       "      <td>abby</td>\n",
       "      <td>Lion</td>\n",
       "      <td>1980-07-07</td>\n",
       "      <td>189.0</td>\n",
       "      <td>3.0</td>\n",
       "      <td>f</td>\n",
       "      <td>37.0</td>\n",
       "      <td>1</td>\n",
       "    </tr>\n",
       "    <tr>\n",
       "      <th>4</th>\n",
       "      <td>signe</td>\n",
       "      <td>Lion</td>\n",
       "      <td>1988-09-02</td>\n",
       "      <td>189.0</td>\n",
       "      <td>3.0</td>\n",
       "      <td>f</td>\n",
       "      <td>29.0</td>\n",
       "      <td>0</td>\n",
       "    </tr>\n",
       "    <tr>\n",
       "      <th>5</th>\n",
       "      <td>sofia</td>\n",
       "      <td>Verseau</td>\n",
       "      <td>1956-10-05</td>\n",
       "      <td>167.0</td>\n",
       "      <td>1.0</td>\n",
       "      <td>f</td>\n",
       "      <td>61.0</td>\n",
       "      <td>2</td>\n",
       "    </tr>\n",
       "    <tr>\n",
       "      <th>6</th>\n",
       "      <td>marianne</td>\n",
       "      <td>Cancer</td>\n",
       "      <td>1956-10-01</td>\n",
       "      <td>178.0</td>\n",
       "      <td>2.0</td>\n",
       "      <td>f</td>\n",
       "      <td>61.0</td>\n",
       "      <td>2</td>\n",
       "    </tr>\n",
       "    <tr>\n",
       "      <th>7</th>\n",
       "      <td>celísio</td>\n",
       "      <td>Lion</td>\n",
       "      <td>1944-09-29</td>\n",
       "      <td>190.0</td>\n",
       "      <td>0.0</td>\n",
       "      <td>h</td>\n",
       "      <td>73.0</td>\n",
       "      <td>3</td>\n",
       "    </tr>\n",
       "    <tr>\n",
       "      <th>8</th>\n",
       "      <td>katarina</td>\n",
       "      <td>Scorpion</td>\n",
       "      <td>1949-10-11</td>\n",
       "      <td>156.0</td>\n",
       "      <td>1.0</td>\n",
       "      <td>f</td>\n",
       "      <td>68.0</td>\n",
       "      <td>3</td>\n",
       "    </tr>\n",
       "    <tr>\n",
       "      <th>9</th>\n",
       "      <td>vedat</td>\n",
       "      <td>Capricorne</td>\n",
       "      <td>1987-10-06</td>\n",
       "      <td>176.0</td>\n",
       "      <td>0.0</td>\n",
       "      <td>h</td>\n",
       "      <td>30.0</td>\n",
       "      <td>0</td>\n",
       "    </tr>\n",
       "    <tr>\n",
       "      <th>10</th>\n",
       "      <td>vicki</td>\n",
       "      <td>Scorpion</td>\n",
       "      <td>1988-10-25</td>\n",
       "      <td>179.0</td>\n",
       "      <td>3.0</td>\n",
       "      <td>f</td>\n",
       "      <td>29.0</td>\n",
       "      <td>0</td>\n",
       "    </tr>\n",
       "    <tr>\n",
       "      <th>11</th>\n",
       "      <td>vicente</td>\n",
       "      <td>Verseau</td>\n",
       "      <td>1966-03-06</td>\n",
       "      <td>172.0</td>\n",
       "      <td>1.0</td>\n",
       "      <td>h</td>\n",
       "      <td>51.0</td>\n",
       "      <td>1</td>\n",
       "    </tr>\n",
       "    <tr>\n",
       "      <th>12</th>\n",
       "      <td>frankie</td>\n",
       "      <td>Scorpion</td>\n",
       "      <td>1964-11-28</td>\n",
       "      <td>184.0</td>\n",
       "      <td>4.0</td>\n",
       "      <td>h</td>\n",
       "      <td>52.0</td>\n",
       "      <td>1</td>\n",
       "    </tr>\n",
       "    <tr>\n",
       "      <th>13</th>\n",
       "      <td>lisa</td>\n",
       "      <td>Lion</td>\n",
       "      <td>1986-08-28</td>\n",
       "      <td>189.0</td>\n",
       "      <td>2.0</td>\n",
       "      <td>f</td>\n",
       "      <td>31.0</td>\n",
       "      <td>0</td>\n",
       "    </tr>\n",
       "    <tr>\n",
       "      <th>14</th>\n",
       "      <td>hanna</td>\n",
       "      <td>Bélier</td>\n",
       "      <td>1979-09-27</td>\n",
       "      <td>182.0</td>\n",
       "      <td>2.0</td>\n",
       "      <td>f</td>\n",
       "      <td>38.0</td>\n",
       "      <td>1</td>\n",
       "    </tr>\n",
       "    <tr>\n",
       "      <th>15</th>\n",
       "      <td>aatu</td>\n",
       "      <td>Vierge</td>\n",
       "      <td>1954-03-25</td>\n",
       "      <td>168.0</td>\n",
       "      <td>1.0</td>\n",
       "      <td>h</td>\n",
       "      <td>63.0</td>\n",
       "      <td>3</td>\n",
       "    </tr>\n",
       "    <tr>\n",
       "      <th>16</th>\n",
       "      <td>carolyn</td>\n",
       "      <td>Sagittaire</td>\n",
       "      <td>1990-04-05</td>\n",
       "      <td>171.0</td>\n",
       "      <td>0.0</td>\n",
       "      <td>f</td>\n",
       "      <td>27.0</td>\n",
       "      <td>0</td>\n",
       "    </tr>\n",
       "    <tr>\n",
       "      <th>17</th>\n",
       "      <td>kaya</td>\n",
       "      <td>Cancer</td>\n",
       "      <td>1955-05-06</td>\n",
       "      <td>178.0</td>\n",
       "      <td>1.0</td>\n",
       "      <td>h</td>\n",
       "      <td>62.0</td>\n",
       "      <td>3</td>\n",
       "    </tr>\n",
       "    <tr>\n",
       "      <th>18</th>\n",
       "      <td>aatu</td>\n",
       "      <td>Scorpion</td>\n",
       "      <td>1957-01-04</td>\n",
       "      <td>170.0</td>\n",
       "      <td>2.0</td>\n",
       "      <td>h</td>\n",
       "      <td>60.0</td>\n",
       "      <td>2</td>\n",
       "    </tr>\n",
       "  </tbody>\n",
       "</table>\n",
       "</div>"
      ],
      "text/plain": [
       "      Prénom Signe astrologique Date de naissance  Taille en cm  \\\n",
       "0       lily            Gémeaux        1962-06-22         176.0   \n",
       "1       anna            Taureau        1960-06-12         178.0   \n",
       "2     jayden            Taureau        1950-02-19         162.0   \n",
       "3       abby               Lion        1980-07-07         189.0   \n",
       "4      signe               Lion        1988-09-02         189.0   \n",
       "5      sofia            Verseau        1956-10-05         167.0   \n",
       "6   marianne             Cancer        1956-10-01         178.0   \n",
       "7    celísio               Lion        1944-09-29         190.0   \n",
       "8   katarina           Scorpion        1949-10-11         156.0   \n",
       "9      vedat         Capricorne        1987-10-06         176.0   \n",
       "10     vicki           Scorpion        1988-10-25         179.0   \n",
       "11   vicente            Verseau        1966-03-06         172.0   \n",
       "12   frankie           Scorpion        1964-11-28         184.0   \n",
       "13      lisa               Lion        1986-08-28         189.0   \n",
       "14     hanna             Bélier        1979-09-27         182.0   \n",
       "15      aatu             Vierge        1954-03-25         168.0   \n",
       "16   carolyn         Sagittaire        1990-04-05         171.0   \n",
       "17      kaya             Cancer        1955-05-06         178.0   \n",
       "18      aatu           Scorpion        1957-01-04         170.0   \n",
       "\n",
       "    Nombre d'enfants Sexe   Age  Groupe d'âge  \n",
       "0                0.0    f  55.0             1  \n",
       "1                0.0    f  57.0             2  \n",
       "2                0.0    h  67.0             3  \n",
       "3                3.0    f  37.0             1  \n",
       "4                3.0    f  29.0             0  \n",
       "5                1.0    f  61.0             2  \n",
       "6                2.0    f  61.0             2  \n",
       "7                0.0    h  73.0             3  \n",
       "8                1.0    f  68.0             3  \n",
       "9                0.0    h  30.0             0  \n",
       "10               3.0    f  29.0             0  \n",
       "11               1.0    h  51.0             1  \n",
       "12               4.0    h  52.0             1  \n",
       "13               2.0    f  31.0             0  \n",
       "14               2.0    f  38.0             1  \n",
       "15               1.0    h  63.0             3  \n",
       "16               0.0    f  27.0             0  \n",
       "17               1.0    h  62.0             3  \n",
       "18               2.0    h  60.0             2  "
      ]
     },
     "execution_count": 675,
     "metadata": {},
     "output_type": "execute_result"
    }
   ],
   "source": [
    "df"
   ]
  },
  {
   "cell_type": "markdown",
   "metadata": {},
   "source": [
    "#### Montre les cinq premières lignes du jeu de données"
   ]
  },
  {
   "cell_type": "code",
   "execution_count": 587,
   "metadata": {},
   "outputs": [
    {
     "data": {
      "text/html": [
       "<div>\n",
       "<style>\n",
       "    .dataframe thead tr:only-child th {\n",
       "        text-align: right;\n",
       "    }\n",
       "\n",
       "    .dataframe thead th {\n",
       "        text-align: left;\n",
       "    }\n",
       "\n",
       "    .dataframe tbody tr th {\n",
       "        vertical-align: top;\n",
       "    }\n",
       "</style>\n",
       "<table border=\"1\" class=\"dataframe\">\n",
       "  <thead>\n",
       "    <tr style=\"text-align: right;\">\n",
       "      <th></th>\n",
       "      <th>Prénom</th>\n",
       "      <th>Signe astrologique</th>\n",
       "      <th>Date de naissance</th>\n",
       "      <th>Taille en cm</th>\n",
       "      <th>Nombre d'enfants</th>\n",
       "      <th>Sexe</th>\n",
       "    </tr>\n",
       "  </thead>\n",
       "  <tbody>\n",
       "    <tr>\n",
       "      <th>0</th>\n",
       "      <td>lily</td>\n",
       "      <td>Gémeaux</td>\n",
       "      <td>22.06.1962</td>\n",
       "      <td>176</td>\n",
       "      <td>NaN</td>\n",
       "      <td>f</td>\n",
       "    </tr>\n",
       "    <tr>\n",
       "      <th>1</th>\n",
       "      <td>anna</td>\n",
       "      <td>Taureau</td>\n",
       "      <td>6.12.1960</td>\n",
       "      <td>178</td>\n",
       "      <td>NaN</td>\n",
       "      <td>f</td>\n",
       "    </tr>\n",
       "    <tr>\n",
       "      <th>2</th>\n",
       "      <td>jayden</td>\n",
       "      <td>Taureau</td>\n",
       "      <td>19.2.1950</td>\n",
       "      <td>162</td>\n",
       "      <td>NaN</td>\n",
       "      <td>h</td>\n",
       "    </tr>\n",
       "    <tr>\n",
       "      <th>3</th>\n",
       "      <td>abby</td>\n",
       "      <td>Lion</td>\n",
       "      <td>7.7.1980</td>\n",
       "      <td>189</td>\n",
       "      <td>3.0</td>\n",
       "      <td>f</td>\n",
       "    </tr>\n",
       "    <tr>\n",
       "      <th>4</th>\n",
       "      <td>signe</td>\n",
       "      <td>Lion</td>\n",
       "      <td>9.2.1988</td>\n",
       "      <td>189</td>\n",
       "      <td>3.0</td>\n",
       "      <td>f</td>\n",
       "    </tr>\n",
       "  </tbody>\n",
       "</table>\n",
       "</div>"
      ],
      "text/plain": [
       "   Prénom Signe astrologique Date de naissance  Taille en cm  \\\n",
       "0    lily            Gémeaux        22.06.1962           176   \n",
       "1    anna            Taureau         6.12.1960           178   \n",
       "2  jayden            Taureau         19.2.1950           162   \n",
       "3    abby               Lion          7.7.1980           189   \n",
       "4   signe               Lion          9.2.1988           189   \n",
       "\n",
       "   Nombre d'enfants Sexe  \n",
       "0               NaN    f  \n",
       "1               NaN    f  \n",
       "2               NaN    h  \n",
       "3               3.0    f  \n",
       "4               3.0    f  "
      ]
     },
     "execution_count": 587,
     "metadata": {},
     "output_type": "execute_result"
    }
   ],
   "source": [
    "df.head()"
   ]
  },
  {
   "cell_type": "code",
   "execution_count": 657,
   "metadata": {},
   "outputs": [
    {
     "data": {
      "text/plain": [
       "0         lily\n",
       "1         anna\n",
       "2       jayden\n",
       "3         abby\n",
       "4        signe\n",
       "5        sofia\n",
       "6     marianne\n",
       "7      celísio\n",
       "8     katarina\n",
       "9        vedat\n",
       "10       vicki\n",
       "11     vicente\n",
       "12     frankie\n",
       "13        lisa\n",
       "14       hanna\n",
       "15        aatu\n",
       "16     carolyn\n",
       "17        kaya\n",
       "18        aatu\n",
       "Name: Prénom, dtype: object"
      ]
     },
     "execution_count": 657,
     "metadata": {},
     "output_type": "execute_result"
    }
   ],
   "source": [
    "df[\"Prénom\"]"
   ]
  },
  {
   "cell_type": "code",
   "execution_count": 681,
   "metadata": {},
   "outputs": [
    {
     "data": {
      "text/html": [
       "<div>\n",
       "<style>\n",
       "    .dataframe thead tr:only-child th {\n",
       "        text-align: right;\n",
       "    }\n",
       "\n",
       "    .dataframe thead th {\n",
       "        text-align: left;\n",
       "    }\n",
       "\n",
       "    .dataframe tbody tr th {\n",
       "        vertical-align: top;\n",
       "    }\n",
       "</style>\n",
       "<table border=\"1\" class=\"dataframe\">\n",
       "  <thead>\n",
       "    <tr style=\"text-align: right;\">\n",
       "      <th></th>\n",
       "      <th>Prénom</th>\n",
       "      <th>Signe astrologique</th>\n",
       "      <th>Date de naissance</th>\n",
       "      <th>Taille en cm</th>\n",
       "      <th>Nombre d'enfants</th>\n",
       "      <th>Sexe</th>\n",
       "      <th>Age</th>\n",
       "      <th>Groupe d'âge</th>\n",
       "    </tr>\n",
       "  </thead>\n",
       "  <tbody>\n",
       "    <tr>\n",
       "      <th>1</th>\n",
       "      <td>anna</td>\n",
       "      <td>Taureau</td>\n",
       "      <td>1960-06-12</td>\n",
       "      <td>178.0</td>\n",
       "      <td>0.0</td>\n",
       "      <td>f</td>\n",
       "      <td>57.0</td>\n",
       "      <td>2</td>\n",
       "    </tr>\n",
       "    <tr>\n",
       "      <th>2</th>\n",
       "      <td>jayden</td>\n",
       "      <td>Taureau</td>\n",
       "      <td>1950-02-19</td>\n",
       "      <td>162.0</td>\n",
       "      <td>0.0</td>\n",
       "      <td>h</td>\n",
       "      <td>67.0</td>\n",
       "      <td>3</td>\n",
       "    </tr>\n",
       "  </tbody>\n",
       "</table>\n",
       "</div>"
      ],
      "text/plain": [
       "   Prénom Signe astrologique Date de naissance  Taille en cm  \\\n",
       "1    anna            Taureau        1960-06-12         178.0   \n",
       "2  jayden            Taureau        1950-02-19         162.0   \n",
       "\n",
       "   Nombre d'enfants Sexe   Age  Groupe d'âge  \n",
       "1               0.0    f  57.0             2  \n",
       "2               0.0    h  67.0             3  "
      ]
     },
     "execution_count": 681,
     "metadata": {},
     "output_type": "execute_result"
    }
   ],
   "source": [
    "df[df[\"Signe astrologique\"] == \"Taureau\"]"
   ]
  },
  {
   "cell_type": "code",
   "execution_count": 682,
   "metadata": {},
   "outputs": [
    {
     "data": {
      "text/html": [
       "<div>\n",
       "<style>\n",
       "    .dataframe thead tr:only-child th {\n",
       "        text-align: right;\n",
       "    }\n",
       "\n",
       "    .dataframe thead th {\n",
       "        text-align: left;\n",
       "    }\n",
       "\n",
       "    .dataframe tbody tr th {\n",
       "        vertical-align: top;\n",
       "    }\n",
       "</style>\n",
       "<table border=\"1\" class=\"dataframe\">\n",
       "  <thead>\n",
       "    <tr style=\"text-align: right;\">\n",
       "      <th></th>\n",
       "      <th>Prénom</th>\n",
       "      <th>Signe astrologique</th>\n",
       "      <th>Date de naissance</th>\n",
       "      <th>Taille en cm</th>\n",
       "      <th>Nombre d'enfants</th>\n",
       "      <th>Sexe</th>\n",
       "      <th>Age</th>\n",
       "      <th>Groupe d'âge</th>\n",
       "    </tr>\n",
       "  </thead>\n",
       "  <tbody>\n",
       "    <tr>\n",
       "      <th>5</th>\n",
       "      <td>sofia</td>\n",
       "      <td>Verseau</td>\n",
       "      <td>1956-10-05</td>\n",
       "      <td>167.0</td>\n",
       "      <td>1.0</td>\n",
       "      <td>f</td>\n",
       "      <td>61.0</td>\n",
       "      <td>2</td>\n",
       "    </tr>\n",
       "    <tr>\n",
       "      <th>8</th>\n",
       "      <td>katarina</td>\n",
       "      <td>Scorpion</td>\n",
       "      <td>1949-10-11</td>\n",
       "      <td>156.0</td>\n",
       "      <td>1.0</td>\n",
       "      <td>f</td>\n",
       "      <td>68.0</td>\n",
       "      <td>3</td>\n",
       "    </tr>\n",
       "    <tr>\n",
       "      <th>11</th>\n",
       "      <td>vicente</td>\n",
       "      <td>Verseau</td>\n",
       "      <td>1966-03-06</td>\n",
       "      <td>172.0</td>\n",
       "      <td>1.0</td>\n",
       "      <td>h</td>\n",
       "      <td>51.0</td>\n",
       "      <td>1</td>\n",
       "    </tr>\n",
       "    <tr>\n",
       "      <th>15</th>\n",
       "      <td>aatu</td>\n",
       "      <td>Vierge</td>\n",
       "      <td>1954-03-25</td>\n",
       "      <td>168.0</td>\n",
       "      <td>1.0</td>\n",
       "      <td>h</td>\n",
       "      <td>63.0</td>\n",
       "      <td>3</td>\n",
       "    </tr>\n",
       "    <tr>\n",
       "      <th>17</th>\n",
       "      <td>kaya</td>\n",
       "      <td>Cancer</td>\n",
       "      <td>1955-05-06</td>\n",
       "      <td>178.0</td>\n",
       "      <td>1.0</td>\n",
       "      <td>h</td>\n",
       "      <td>62.0</td>\n",
       "      <td>3</td>\n",
       "    </tr>\n",
       "  </tbody>\n",
       "</table>\n",
       "</div>"
      ],
      "text/plain": [
       "      Prénom Signe astrologique Date de naissance  Taille en cm  \\\n",
       "5      sofia            Verseau        1956-10-05         167.0   \n",
       "8   katarina           Scorpion        1949-10-11         156.0   \n",
       "11   vicente            Verseau        1966-03-06         172.0   \n",
       "15      aatu             Vierge        1954-03-25         168.0   \n",
       "17      kaya             Cancer        1955-05-06         178.0   \n",
       "\n",
       "    Nombre d'enfants Sexe   Age  Groupe d'âge  \n",
       "5                1.0    f  61.0             2  \n",
       "8                1.0    f  68.0             3  \n",
       "11               1.0    h  51.0             1  \n",
       "15               1.0    h  63.0             3  \n",
       "17               1.0    h  62.0             3  "
      ]
     },
     "execution_count": 682,
     "metadata": {},
     "output_type": "execute_result"
    }
   ],
   "source": [
    "df[df[\"Nombre d'enfants\"] == 1]"
   ]
  },
  {
   "cell_type": "code",
   "execution_count": 685,
   "metadata": {},
   "outputs": [
    {
     "data": {
      "text/html": [
       "<div>\n",
       "<style>\n",
       "    .dataframe thead tr:only-child th {\n",
       "        text-align: right;\n",
       "    }\n",
       "\n",
       "    .dataframe thead th {\n",
       "        text-align: left;\n",
       "    }\n",
       "\n",
       "    .dataframe tbody tr th {\n",
       "        vertical-align: top;\n",
       "    }\n",
       "</style>\n",
       "<table border=\"1\" class=\"dataframe\">\n",
       "  <thead>\n",
       "    <tr style=\"text-align: right;\">\n",
       "      <th></th>\n",
       "      <th>Prénom</th>\n",
       "      <th>Signe astrologique</th>\n",
       "      <th>Date de naissance</th>\n",
       "      <th>Taille en cm</th>\n",
       "      <th>Nombre d'enfants</th>\n",
       "      <th>Sexe</th>\n",
       "      <th>Age</th>\n",
       "      <th>Groupe d'âge</th>\n",
       "    </tr>\n",
       "  </thead>\n",
       "  <tbody>\n",
       "    <tr>\n",
       "      <th>1</th>\n",
       "      <td>anna</td>\n",
       "      <td>Taureau</td>\n",
       "      <td>1960-06-12</td>\n",
       "      <td>178.0</td>\n",
       "      <td>0.0</td>\n",
       "      <td>f</td>\n",
       "      <td>57.0</td>\n",
       "      <td>2</td>\n",
       "    </tr>\n",
       "    <tr>\n",
       "      <th>8</th>\n",
       "      <td>katarina</td>\n",
       "      <td>Scorpion</td>\n",
       "      <td>1949-10-11</td>\n",
       "      <td>156.0</td>\n",
       "      <td>1.0</td>\n",
       "      <td>f</td>\n",
       "      <td>68.0</td>\n",
       "      <td>3</td>\n",
       "    </tr>\n",
       "    <tr>\n",
       "      <th>14</th>\n",
       "      <td>hanna</td>\n",
       "      <td>Bélier</td>\n",
       "      <td>1979-09-27</td>\n",
       "      <td>182.0</td>\n",
       "      <td>2.0</td>\n",
       "      <td>f</td>\n",
       "      <td>38.0</td>\n",
       "      <td>1</td>\n",
       "    </tr>\n",
       "  </tbody>\n",
       "</table>\n",
       "</div>"
      ],
      "text/plain": [
       "      Prénom Signe astrologique Date de naissance  Taille en cm  \\\n",
       "1       anna            Taureau        1960-06-12         178.0   \n",
       "8   katarina           Scorpion        1949-10-11         156.0   \n",
       "14     hanna             Bélier        1979-09-27         182.0   \n",
       "\n",
       "    Nombre d'enfants Sexe   Age  Groupe d'âge  \n",
       "1                0.0    f  57.0             2  \n",
       "8                1.0    f  68.0             3  \n",
       "14               2.0    f  38.0             1  "
      ]
     },
     "execution_count": 685,
     "metadata": {},
     "output_type": "execute_result"
    }
   ],
   "source": [
    "df[df[\"Prénom\"].str.contains(\"na\")]"
   ]
  },
  {
   "cell_type": "markdown",
   "metadata": {},
   "source": [
    "### 3) On corrige les éventuelles erreurs et on convertit les données en un format que le système comprend"
   ]
  },
  {
   "cell_type": "markdown",
   "metadata": {},
   "source": [
    "#### Les dates et chiffres sont transformés"
   ]
  },
  {
   "cell_type": "code",
   "execution_count": 588,
   "metadata": {},
   "outputs": [],
   "source": [
    "df[\"Date de naissance\"] = pd.to_datetime(df[\"Date de naissance\"])\n",
    "df[\"Nombre d'enfants\"].fillna(0, inplace=True)\n",
    "df[\"Taille en cm\"] = df[\"Taille en cm\"].replace(r\"[^0-9]\", \"\", regex=True).astype(float)"
   ]
  },
  {
   "cell_type": "markdown",
   "metadata": {},
   "source": [
    "#### Calcule l'âge de chacun d'entre nous"
   ]
  },
  {
   "cell_type": "code",
   "execution_count": 589,
   "metadata": {},
   "outputs": [],
   "source": [
    "now = pd.Timestamp(datetime.datetime.now())\n",
    "df[\"Age\"] = (now - df[\"Date de naissance\"]).astype('<m8[Y]')"
   ]
  },
  {
   "cell_type": "markdown",
   "metadata": {},
   "source": [
    "#### Vérifie le résultat des modifications"
   ]
  },
  {
   "cell_type": "code",
   "execution_count": 590,
   "metadata": {},
   "outputs": [
    {
     "data": {
      "text/html": [
       "<div>\n",
       "<style>\n",
       "    .dataframe thead tr:only-child th {\n",
       "        text-align: right;\n",
       "    }\n",
       "\n",
       "    .dataframe thead th {\n",
       "        text-align: left;\n",
       "    }\n",
       "\n",
       "    .dataframe tbody tr th {\n",
       "        vertical-align: top;\n",
       "    }\n",
       "</style>\n",
       "<table border=\"1\" class=\"dataframe\">\n",
       "  <thead>\n",
       "    <tr style=\"text-align: right;\">\n",
       "      <th></th>\n",
       "      <th>Prénom</th>\n",
       "      <th>Signe astrologique</th>\n",
       "      <th>Date de naissance</th>\n",
       "      <th>Taille en cm</th>\n",
       "      <th>Nombre d'enfants</th>\n",
       "      <th>Sexe</th>\n",
       "      <th>Age</th>\n",
       "    </tr>\n",
       "  </thead>\n",
       "  <tbody>\n",
       "    <tr>\n",
       "      <th>0</th>\n",
       "      <td>lily</td>\n",
       "      <td>Gémeaux</td>\n",
       "      <td>1962-06-22</td>\n",
       "      <td>176.0</td>\n",
       "      <td>0.0</td>\n",
       "      <td>f</td>\n",
       "      <td>55.0</td>\n",
       "    </tr>\n",
       "    <tr>\n",
       "      <th>1</th>\n",
       "      <td>anna</td>\n",
       "      <td>Taureau</td>\n",
       "      <td>1960-06-12</td>\n",
       "      <td>178.0</td>\n",
       "      <td>0.0</td>\n",
       "      <td>f</td>\n",
       "      <td>57.0</td>\n",
       "    </tr>\n",
       "    <tr>\n",
       "      <th>2</th>\n",
       "      <td>jayden</td>\n",
       "      <td>Taureau</td>\n",
       "      <td>1950-02-19</td>\n",
       "      <td>162.0</td>\n",
       "      <td>0.0</td>\n",
       "      <td>h</td>\n",
       "      <td>67.0</td>\n",
       "    </tr>\n",
       "    <tr>\n",
       "      <th>3</th>\n",
       "      <td>abby</td>\n",
       "      <td>Lion</td>\n",
       "      <td>1980-07-07</td>\n",
       "      <td>189.0</td>\n",
       "      <td>3.0</td>\n",
       "      <td>f</td>\n",
       "      <td>37.0</td>\n",
       "    </tr>\n",
       "    <tr>\n",
       "      <th>4</th>\n",
       "      <td>signe</td>\n",
       "      <td>Lion</td>\n",
       "      <td>1988-09-02</td>\n",
       "      <td>189.0</td>\n",
       "      <td>3.0</td>\n",
       "      <td>f</td>\n",
       "      <td>29.0</td>\n",
       "    </tr>\n",
       "  </tbody>\n",
       "</table>\n",
       "</div>"
      ],
      "text/plain": [
       "   Prénom Signe astrologique Date de naissance  Taille en cm  \\\n",
       "0    lily            Gémeaux        1962-06-22         176.0   \n",
       "1    anna            Taureau        1960-06-12         178.0   \n",
       "2  jayden            Taureau        1950-02-19         162.0   \n",
       "3    abby               Lion        1980-07-07         189.0   \n",
       "4   signe               Lion        1988-09-02         189.0   \n",
       "\n",
       "   Nombre d'enfants Sexe   Age  \n",
       "0               0.0    f  55.0  \n",
       "1               0.0    f  57.0  \n",
       "2               0.0    h  67.0  \n",
       "3               3.0    f  37.0  \n",
       "4               3.0    f  29.0  "
      ]
     },
     "execution_count": 590,
     "metadata": {},
     "output_type": "execute_result"
    }
   ],
   "source": [
    "df.head()"
   ]
  },
  {
   "cell_type": "markdown",
   "metadata": {},
   "source": [
    "## B) Un aperçu rapide de notre jeu de données"
   ]
  },
  {
   "cell_type": "markdown",
   "metadata": {},
   "source": [
    "### 1) Affiche le nombre de lignes et de colonnes de notre base données (Combien nous sommes et combien de paramètres nous caractérisent)"
   ]
  },
  {
   "cell_type": "code",
   "execution_count": 591,
   "metadata": {},
   "outputs": [
    {
     "data": {
      "text/plain": [
       "(19, 7)"
      ]
     },
     "execution_count": 591,
     "metadata": {},
     "output_type": "execute_result"
    }
   ],
   "source": [
    "df.shape"
   ]
  },
  {
   "cell_type": "markdown",
   "metadata": {},
   "source": [
    "### 2) Affiche le nom de chaque paramètre qui nous caractérise ainsi que son type de donnée"
   ]
  },
  {
   "cell_type": "code",
   "execution_count": 592,
   "metadata": {},
   "outputs": [
    {
     "data": {
      "text/plain": [
       "Prénom                        object\n",
       "Signe astrologique            object\n",
       "Date de naissance     datetime64[ns]\n",
       "Taille en cm                 float64\n",
       "Nombre d'enfants             float64\n",
       "Sexe                          object\n",
       "Age                          float64\n",
       "dtype: object"
      ]
     },
     "execution_count": 592,
     "metadata": {},
     "output_type": "execute_result"
    }
   ],
   "source": [
    "df.dtypes"
   ]
  },
  {
   "cell_type": "markdown",
   "metadata": {},
   "source": [
    "### 3) Nous pourrions commencer par demander un aperçu statistique de notre groupe"
   ]
  },
  {
   "cell_type": "code",
   "execution_count": 593,
   "metadata": {},
   "outputs": [
    {
     "data": {
      "text/html": [
       "<div>\n",
       "<style>\n",
       "    .dataframe thead tr:only-child th {\n",
       "        text-align: right;\n",
       "    }\n",
       "\n",
       "    .dataframe thead th {\n",
       "        text-align: left;\n",
       "    }\n",
       "\n",
       "    .dataframe tbody tr th {\n",
       "        vertical-align: top;\n",
       "    }\n",
       "</style>\n",
       "<table border=\"1\" class=\"dataframe\">\n",
       "  <thead>\n",
       "    <tr style=\"text-align: right;\">\n",
       "      <th></th>\n",
       "      <th>Taille en cm</th>\n",
       "      <th>Nombre d'enfants</th>\n",
       "      <th>Age</th>\n",
       "    </tr>\n",
       "  </thead>\n",
       "  <tbody>\n",
       "    <tr>\n",
       "      <th>count</th>\n",
       "      <td>19.000000</td>\n",
       "      <td>19.000000</td>\n",
       "      <td>19.000000</td>\n",
       "    </tr>\n",
       "    <tr>\n",
       "      <th>mean</th>\n",
       "      <td>176.526316</td>\n",
       "      <td>1.368421</td>\n",
       "      <td>50.052632</td>\n",
       "    </tr>\n",
       "    <tr>\n",
       "      <th>std</th>\n",
       "      <td>9.535713</td>\n",
       "      <td>1.256562</td>\n",
       "      <td>15.565181</td>\n",
       "    </tr>\n",
       "    <tr>\n",
       "      <th>min</th>\n",
       "      <td>156.000000</td>\n",
       "      <td>0.000000</td>\n",
       "      <td>27.000000</td>\n",
       "    </tr>\n",
       "    <tr>\n",
       "      <th>25%</th>\n",
       "      <td>170.500000</td>\n",
       "      <td>0.000000</td>\n",
       "      <td>34.000000</td>\n",
       "    </tr>\n",
       "    <tr>\n",
       "      <th>50%</th>\n",
       "      <td>178.000000</td>\n",
       "      <td>1.000000</td>\n",
       "      <td>55.000000</td>\n",
       "    </tr>\n",
       "    <tr>\n",
       "      <th>75%</th>\n",
       "      <td>183.000000</td>\n",
       "      <td>2.000000</td>\n",
       "      <td>61.500000</td>\n",
       "    </tr>\n",
       "    <tr>\n",
       "      <th>max</th>\n",
       "      <td>190.000000</td>\n",
       "      <td>4.000000</td>\n",
       "      <td>73.000000</td>\n",
       "    </tr>\n",
       "  </tbody>\n",
       "</table>\n",
       "</div>"
      ],
      "text/plain": [
       "       Taille en cm  Nombre d'enfants        Age\n",
       "count     19.000000         19.000000  19.000000\n",
       "mean     176.526316          1.368421  50.052632\n",
       "std        9.535713          1.256562  15.565181\n",
       "min      156.000000          0.000000  27.000000\n",
       "25%      170.500000          0.000000  34.000000\n",
       "50%      178.000000          1.000000  55.000000\n",
       "75%      183.000000          2.000000  61.500000\n",
       "max      190.000000          4.000000  73.000000"
      ]
     },
     "execution_count": 593,
     "metadata": {},
     "output_type": "execute_result"
    }
   ],
   "source": [
    "df.describe()"
   ]
  },
  {
   "cell_type": "markdown",
   "metadata": {},
   "source": [
    "## C) Explorer le jeu de données pour y dénicher un sujet"
   ]
  },
  {
   "cell_type": "markdown",
   "metadata": {},
   "source": [
    "### 1) Les hommes qui travaillent ont-ils plus d'enfants que les femmes dans la même situation?"
   ]
  },
  {
   "cell_type": "markdown",
   "metadata": {},
   "source": [
    "#### Nombre d'hommes et de femmes"
   ]
  },
  {
   "cell_type": "code",
   "execution_count": 656,
   "metadata": {},
   "outputs": [
    {
     "data": {
      "text/plain": [
       "f    11\n",
       "h     8\n",
       "Name: Sexe, dtype: int64"
      ]
     },
     "execution_count": 656,
     "metadata": {},
     "output_type": "execute_result"
    }
   ],
   "source": [
    "df[\"Sexe\"].value_counts()"
   ]
  },
  {
   "cell_type": "markdown",
   "metadata": {},
   "source": [
    "#### Somme du nombre d'enfants des hommes et des femmes"
   ]
  },
  {
   "cell_type": "code",
   "execution_count": 594,
   "metadata": {},
   "outputs": [
    {
     "data": {
      "text/plain": [
       "Sexe\n",
       "f    17.0\n",
       "h     9.0\n",
       "Name: Nombre d'enfants, dtype: float64"
      ]
     },
     "execution_count": 594,
     "metadata": {},
     "output_type": "execute_result"
    }
   ],
   "source": [
    "df.groupby(\"Sexe\")[\"Nombre d'enfants\"].sum()"
   ]
  },
  {
   "cell_type": "markdown",
   "metadata": {},
   "source": [
    "#### Un résultat plus détaillé donnerait"
   ]
  },
  {
   "cell_type": "code",
   "execution_count": 595,
   "metadata": {},
   "outputs": [
    {
     "data": {
      "text/plain": [
       "Sexe  Nombre d'enfants\n",
       "f     0.0                 3\n",
       "      2.0                 3\n",
       "      3.0                 3\n",
       "      1.0                 2\n",
       "h     0.0                 3\n",
       "      1.0                 3\n",
       "      2.0                 1\n",
       "      4.0                 1\n",
       "Name: Nombre d'enfants, dtype: int64"
      ]
     },
     "execution_count": 595,
     "metadata": {},
     "output_type": "execute_result"
    }
   ],
   "source": [
    "df.groupby(\"Sexe\")[\"Nombre d'enfants\"].value_counts()"
   ]
  },
  {
   "cell_type": "markdown",
   "metadata": {},
   "source": [
    "#### ... et en pourcentage?"
   ]
  },
  {
   "cell_type": "code",
   "execution_count": 674,
   "metadata": {},
   "outputs": [
    {
     "data": {
      "text/plain": [
       "Sexe  Nombre d'enfants\n",
       "f     0.0                 0.272727\n",
       "      2.0                 0.272727\n",
       "      3.0                 0.272727\n",
       "      1.0                 0.181818\n",
       "h     0.0                 0.375000\n",
       "      1.0                 0.375000\n",
       "      2.0                 0.125000\n",
       "      4.0                 0.125000\n",
       "Name: Nombre d'enfants, dtype: float64"
      ]
     },
     "execution_count": 674,
     "metadata": {},
     "output_type": "execute_result"
    }
   ],
   "source": [
    "df.groupby(\"Sexe\")[\"Nombre d'enfants\"].value_counts(normalize=True)"
   ]
  },
  {
   "cell_type": "markdown",
   "metadata": {},
   "source": [
    "#### Que nous dit la moyenne d'enfants par groupes?"
   ]
  },
  {
   "cell_type": "code",
   "execution_count": 597,
   "metadata": {},
   "outputs": [
    {
     "data": {
      "text/plain": [
       "Sexe\n",
       "f    1.545455\n",
       "h    1.125000\n",
       "Name: Nombre d'enfants, dtype: float64"
      ]
     },
     "execution_count": 597,
     "metadata": {},
     "output_type": "execute_result"
    }
   ],
   "source": [
    "df.groupby(\"Sexe\")[\"Nombre d'enfants\"].mean()"
   ]
  },
  {
   "cell_type": "markdown",
   "metadata": {},
   "source": [
    "#### et le nombre médian d'enfants par groupes?"
   ]
  },
  {
   "cell_type": "code",
   "execution_count": 598,
   "metadata": {},
   "outputs": [
    {
     "data": {
      "text/plain": [
       "Sexe\n",
       "f    2.0\n",
       "h    1.0\n",
       "Name: Nombre d'enfants, dtype: float64"
      ]
     },
     "execution_count": 598,
     "metadata": {},
     "output_type": "execute_result"
    }
   ],
   "source": [
    "df.groupby(\"Sexe\")[\"Nombre d'enfants\"].median()"
   ]
  },
  {
   "cell_type": "markdown",
   "metadata": {},
   "source": [
    "### 2) Et si nous nous groupions par signe astrologique?"
   ]
  },
  {
   "cell_type": "code",
   "execution_count": 599,
   "metadata": {},
   "outputs": [
    {
     "data": {
      "text/plain": [
       "Scorpion      4\n",
       "Lion          4\n",
       "Taureau       2\n",
       "Cancer        2\n",
       "Verseau       2\n",
       "Gémeaux       1\n",
       "Vierge        1\n",
       "Capricorne    1\n",
       "Sagittaire    1\n",
       "Bélier        1\n",
       "Name: Signe astrologique, dtype: int64"
      ]
     },
     "execution_count": 599,
     "metadata": {},
     "output_type": "execute_result"
    }
   ],
   "source": [
    "df[\"Signe astrologique\"].value_counts()"
   ]
  },
  {
   "cell_type": "code",
   "execution_count": 600,
   "metadata": {},
   "outputs": [
    {
     "data": {
      "text/plain": [
       "Signe astrologique\n",
       "Bélier         2.0\n",
       "Cancer         3.0\n",
       "Capricorne     0.0\n",
       "Gémeaux        0.0\n",
       "Lion           8.0\n",
       "Sagittaire     0.0\n",
       "Scorpion      10.0\n",
       "Taureau        0.0\n",
       "Verseau        2.0\n",
       "Vierge         1.0\n",
       "Name: Nombre d'enfants, dtype: float64"
      ]
     },
     "execution_count": 600,
     "metadata": {},
     "output_type": "execute_result"
    }
   ],
   "source": [
    "df.groupby(\"Signe astrologique\")[\"Nombre d'enfants\"].sum()"
   ]
  },
  {
   "cell_type": "markdown",
   "metadata": {},
   "source": [
    "#### Pour plus de lisibilité, nous pourrions afficher la liste précédente sous la forme d'un graphique\n",
    "\n",
    "On groupe par signe astrologique, on demande la somme de chaque signe puis on classe le résultat par ordre décroissant avant de produire le graphique."
   ]
  },
  {
   "cell_type": "code",
   "execution_count": 601,
   "metadata": {},
   "outputs": [
    {
     "data": {
      "text/plain": [
       "<matplotlib.axes._subplots.AxesSubplot at 0x110233e48>"
      ]
     },
     "execution_count": 601,
     "metadata": {},
     "output_type": "execute_result"
    },
    {
     "data": {
      "image/png": "[encoded data removed]",
      "text/plain": [
       "<matplotlib.figure.Figure at 0x110043e10>"
      ]
     },
     "metadata": {},
     "output_type": "display_data"
    }
   ],
   "source": [
    "df.groupby(\"Signe astrologique\")[\"Nombre d'enfants\"].sum().sort_values().plot(kind=\"barh\")"
   ]
  },
  {
   "cell_type": "markdown",
   "metadata": {},
   "source": [
    "#### Si nous voulions isoler un signe astrologique"
   ]
  },
  {
   "cell_type": "code",
   "execution_count": 602,
   "metadata": {},
   "outputs": [
    {
     "data": {
      "text/html": [
       "<div>\n",
       "<style>\n",
       "    .dataframe thead tr:only-child th {\n",
       "        text-align: right;\n",
       "    }\n",
       "\n",
       "    .dataframe thead th {\n",
       "        text-align: left;\n",
       "    }\n",
       "\n",
       "    .dataframe tbody tr th {\n",
       "        vertical-align: top;\n",
       "    }\n",
       "</style>\n",
       "<table border=\"1\" class=\"dataframe\">\n",
       "  <thead>\n",
       "    <tr style=\"text-align: right;\">\n",
       "      <th></th>\n",
       "      <th>Prénom</th>\n",
       "      <th>Signe astrologique</th>\n",
       "      <th>Date de naissance</th>\n",
       "      <th>Taille en cm</th>\n",
       "      <th>Nombre d'enfants</th>\n",
       "      <th>Sexe</th>\n",
       "      <th>Age</th>\n",
       "    </tr>\n",
       "  </thead>\n",
       "  <tbody>\n",
       "    <tr>\n",
       "      <th>8</th>\n",
       "      <td>katarina</td>\n",
       "      <td>Scorpion</td>\n",
       "      <td>1949-10-11</td>\n",
       "      <td>156.0</td>\n",
       "      <td>1.0</td>\n",
       "      <td>f</td>\n",
       "      <td>68.0</td>\n",
       "    </tr>\n",
       "    <tr>\n",
       "      <th>10</th>\n",
       "      <td>vicki</td>\n",
       "      <td>Scorpion</td>\n",
       "      <td>1988-10-25</td>\n",
       "      <td>179.0</td>\n",
       "      <td>3.0</td>\n",
       "      <td>f</td>\n",
       "      <td>29.0</td>\n",
       "    </tr>\n",
       "    <tr>\n",
       "      <th>12</th>\n",
       "      <td>frankie</td>\n",
       "      <td>Scorpion</td>\n",
       "      <td>1964-11-28</td>\n",
       "      <td>184.0</td>\n",
       "      <td>4.0</td>\n",
       "      <td>h</td>\n",
       "      <td>52.0</td>\n",
       "    </tr>\n",
       "    <tr>\n",
       "      <th>18</th>\n",
       "      <td>aatu</td>\n",
       "      <td>Scorpion</td>\n",
       "      <td>1957-01-04</td>\n",
       "      <td>170.0</td>\n",
       "      <td>2.0</td>\n",
       "      <td>h</td>\n",
       "      <td>60.0</td>\n",
       "    </tr>\n",
       "  </tbody>\n",
       "</table>\n",
       "</div>"
      ],
      "text/plain": [
       "      Prénom Signe astrologique Date de naissance  Taille en cm  \\\n",
       "8   katarina           Scorpion        1949-10-11         156.0   \n",
       "10     vicki           Scorpion        1988-10-25         179.0   \n",
       "12   frankie           Scorpion        1964-11-28         184.0   \n",
       "18      aatu           Scorpion        1957-01-04         170.0   \n",
       "\n",
       "    Nombre d'enfants Sexe   Age  \n",
       "8                1.0    f  68.0  \n",
       "10               3.0    f  29.0  \n",
       "12               4.0    h  52.0  \n",
       "18               2.0    h  60.0  "
      ]
     },
     "execution_count": 602,
     "metadata": {},
     "output_type": "execute_result"
    }
   ],
   "source": [
    "df[df['Signe astrologique'] == \"Scorpion\"]"
   ]
  },
  {
   "cell_type": "markdown",
   "metadata": {},
   "source": [
    "### 3) Qui sont les plus jeunes? les plus vieux?"
   ]
  },
  {
   "cell_type": "code",
   "execution_count": 603,
   "metadata": {},
   "outputs": [
    {
     "data": {
      "text/html": [
       "<div>\n",
       "<style>\n",
       "    .dataframe thead tr:only-child th {\n",
       "        text-align: right;\n",
       "    }\n",
       "\n",
       "    .dataframe thead th {\n",
       "        text-align: left;\n",
       "    }\n",
       "\n",
       "    .dataframe tbody tr th {\n",
       "        vertical-align: top;\n",
       "    }\n",
       "</style>\n",
       "<table border=\"1\" class=\"dataframe\">\n",
       "  <thead>\n",
       "    <tr style=\"text-align: right;\">\n",
       "      <th></th>\n",
       "      <th>Prénom</th>\n",
       "      <th>Age</th>\n",
       "    </tr>\n",
       "  </thead>\n",
       "  <tbody>\n",
       "    <tr>\n",
       "      <th>16</th>\n",
       "      <td>carolyn</td>\n",
       "      <td>27.0</td>\n",
       "    </tr>\n",
       "    <tr>\n",
       "      <th>4</th>\n",
       "      <td>signe</td>\n",
       "      <td>29.0</td>\n",
       "    </tr>\n",
       "    <tr>\n",
       "      <th>10</th>\n",
       "      <td>vicki</td>\n",
       "      <td>29.0</td>\n",
       "    </tr>\n",
       "    <tr>\n",
       "      <th>9</th>\n",
       "      <td>vedat</td>\n",
       "      <td>30.0</td>\n",
       "    </tr>\n",
       "    <tr>\n",
       "      <th>13</th>\n",
       "      <td>lisa</td>\n",
       "      <td>31.0</td>\n",
       "    </tr>\n",
       "    <tr>\n",
       "      <th>3</th>\n",
       "      <td>abby</td>\n",
       "      <td>37.0</td>\n",
       "    </tr>\n",
       "    <tr>\n",
       "      <th>14</th>\n",
       "      <td>hanna</td>\n",
       "      <td>38.0</td>\n",
       "    </tr>\n",
       "    <tr>\n",
       "      <th>11</th>\n",
       "      <td>vicente</td>\n",
       "      <td>51.0</td>\n",
       "    </tr>\n",
       "    <tr>\n",
       "      <th>12</th>\n",
       "      <td>frankie</td>\n",
       "      <td>52.0</td>\n",
       "    </tr>\n",
       "    <tr>\n",
       "      <th>0</th>\n",
       "      <td>lily</td>\n",
       "      <td>55.0</td>\n",
       "    </tr>\n",
       "    <tr>\n",
       "      <th>1</th>\n",
       "      <td>anna</td>\n",
       "      <td>57.0</td>\n",
       "    </tr>\n",
       "    <tr>\n",
       "      <th>18</th>\n",
       "      <td>aatu</td>\n",
       "      <td>60.0</td>\n",
       "    </tr>\n",
       "    <tr>\n",
       "      <th>6</th>\n",
       "      <td>marianne</td>\n",
       "      <td>61.0</td>\n",
       "    </tr>\n",
       "    <tr>\n",
       "      <th>5</th>\n",
       "      <td>sofia</td>\n",
       "      <td>61.0</td>\n",
       "    </tr>\n",
       "    <tr>\n",
       "      <th>17</th>\n",
       "      <td>kaya</td>\n",
       "      <td>62.0</td>\n",
       "    </tr>\n",
       "    <tr>\n",
       "      <th>15</th>\n",
       "      <td>aatu</td>\n",
       "      <td>63.0</td>\n",
       "    </tr>\n",
       "    <tr>\n",
       "      <th>2</th>\n",
       "      <td>jayden</td>\n",
       "      <td>67.0</td>\n",
       "    </tr>\n",
       "    <tr>\n",
       "      <th>8</th>\n",
       "      <td>katarina</td>\n",
       "      <td>68.0</td>\n",
       "    </tr>\n",
       "    <tr>\n",
       "      <th>7</th>\n",
       "      <td>celísio</td>\n",
       "      <td>73.0</td>\n",
       "    </tr>\n",
       "  </tbody>\n",
       "</table>\n",
       "</div>"
      ],
      "text/plain": [
       "      Prénom   Age\n",
       "16   carolyn  27.0\n",
       "4      signe  29.0\n",
       "10     vicki  29.0\n",
       "9      vedat  30.0\n",
       "13      lisa  31.0\n",
       "3       abby  37.0\n",
       "14     hanna  38.0\n",
       "11   vicente  51.0\n",
       "12   frankie  52.0\n",
       "0       lily  55.0\n",
       "1       anna  57.0\n",
       "18      aatu  60.0\n",
       "6   marianne  61.0\n",
       "5      sofia  61.0\n",
       "17      kaya  62.0\n",
       "15      aatu  63.0\n",
       "2     jayden  67.0\n",
       "8   katarina  68.0\n",
       "7    celísio  73.0"
      ]
     },
     "execution_count": 603,
     "metadata": {},
     "output_type": "execute_result"
    }
   ],
   "source": [
    "df[[\"Prénom\", \"Age\"]].sort_values(by=\"Age\")"
   ]
  },
  {
   "cell_type": "markdown",
   "metadata": {},
   "source": [
    "#### Quelles sont les tranches d'âge les plus représentées?"
   ]
  },
  {
   "cell_type": "code",
   "execution_count": 604,
   "metadata": {},
   "outputs": [
    {
     "data": {
      "text/plain": [
       "<matplotlib.axes._subplots.AxesSubplot at 0x11033cb38>"
      ]
     },
     "execution_count": 604,
     "metadata": {},
     "output_type": "execute_result"
    },
    {
     "data": {
      "image/png": "[encoded data removed]",
      "text/plain": [
       "<matplotlib.figure.Figure at 0x110247828>"
      ]
     },
     "metadata": {},
     "output_type": "display_data"
    }
   ],
   "source": [
    "df['Date de naissance'].dt.year.hist(bins=5)"
   ]
  },
  {
   "cell_type": "markdown",
   "metadata": {},
   "source": [
    "#### Quels sont les mois les plus propices aux naissances?"
   ]
  },
  {
   "cell_type": "code",
   "execution_count": 605,
   "metadata": {},
   "outputs": [
    {
     "data": {
      "text/plain": [
       "<matplotlib.axes._subplots.AxesSubplot at 0x110217c18>"
      ]
     },
     "execution_count": 605,
     "metadata": {},
     "output_type": "execute_result"
    },
    {
     "data": {
      "image/png": "[encoded data removed]",
      "text/plain": [
       "<matplotlib.figure.Figure at 0x1104c4ba8>"
      ]
     },
     "metadata": {},
     "output_type": "display_data"
    }
   ],
   "source": [
    "df['Date de naissance'].dt.month.hist(bins=12)"
   ]
  },
  {
   "cell_type": "markdown",
   "metadata": {},
   "source": [
    "#### A la conception?"
   ]
  },
  {
   "cell_type": "code",
   "execution_count": 696,
   "metadata": {},
   "outputs": [
    {
     "name": "stdout",
     "output_type": "stream",
     "text": [
      "9\n",
      "9\n",
      "5\n",
      "10\n",
      "0\n",
      "1\n",
      "1\n",
      "0\n",
      "1\n",
      "1\n",
      "1\n",
      "6\n",
      "2\n",
      "11\n",
      "0\n",
      "6\n",
      "7\n",
      "8\n",
      "4\n"
     ]
    }
   ],
   "source": [
    "for index, row in df.iterrows():\n",
    "    print((row['Date de naissance'].month - 9) % 12)"
   ]
  },
  {
   "cell_type": "code",
   "execution_count": 706,
   "metadata": {},
   "outputs": [
    {
     "data": {
      "text/plain": [
       "<matplotlib.axes._subplots.AxesSubplot at 0x11226d3c8>"
      ]
     },
     "execution_count": 706,
     "metadata": {},
     "output_type": "execute_result"
    },
    {
     "data": {
      "image/png": "[encoded data removed]",
      "text/plain": [
       "<matplotlib.figure.Figure at 0x11221c748>"
      ]
     },
     "metadata": {},
     "output_type": "display_data"
    }
   ],
   "source": [
    "(pd.Series((df['Date de naissance'].dt.month - 9) % 12)\n",
    " .sort_values()\n",
    " .value_counts(sort=False)\n",
    " .plot(kind=\"barh\"))"
   ]
  },
  {
   "cell_type": "markdown",
   "metadata": {},
   "source": [
    "#### Que peut-on tirer des jours de naissance?"
   ]
  },
  {
   "cell_type": "code",
   "execution_count": 606,
   "metadata": {},
   "outputs": [
    {
     "data": {
      "text/plain": [
       "<matplotlib.axes._subplots.AxesSubplot at 0x1105d5780>"
      ]
     },
     "execution_count": 606,
     "metadata": {},
     "output_type": "execute_result"
    },
    {
     "data": {
      "image/png": "[encoded data removed]",
      "text/plain": [
       "<matplotlib.figure.Figure at 0x1104e7748>"
      ]
     },
     "metadata": {},
     "output_type": "display_data"
    }
   ],
   "source": [
    "df['Date de naissance'].dt.weekday.hist(bins=7)"
   ]
  },
  {
   "cell_type": "markdown",
   "metadata": {},
   "source": [
    "#### Affichons un histogramme des âges divisés en cinq tranches"
   ]
  },
  {
   "cell_type": "code",
   "execution_count": 708,
   "metadata": {},
   "outputs": [
    {
     "data": {
      "text/plain": [
       "<matplotlib.axes._subplots.AxesSubplot at 0x112049940>"
      ]
     },
     "execution_count": 708,
     "metadata": {},
     "output_type": "execute_result"
    },
    {
     "data": {
      "image/png": "[encoded data removed]",
      "text/plain": [
       "<matplotlib.figure.Figure at 0x112139fd0>"
      ]
     },
     "metadata": {},
     "output_type": "display_data"
    }
   ],
   "source": [
    "df['Age'].hist(bins=5)"
   ]
  },
  {
   "cell_type": "markdown",
   "metadata": {},
   "source": [
    "### Age moyen"
   ]
  },
  {
   "cell_type": "code",
   "execution_count": 608,
   "metadata": {},
   "outputs": [
    {
     "data": {
      "text/plain": [
       "50.05263157894737"
      ]
     },
     "execution_count": 608,
     "metadata": {},
     "output_type": "execute_result"
    }
   ],
   "source": [
    "df['Age'].mean()"
   ]
  },
  {
   "cell_type": "markdown",
   "metadata": {},
   "source": [
    "### Age médian"
   ]
  },
  {
   "cell_type": "code",
   "execution_count": 609,
   "metadata": {},
   "outputs": [
    {
     "data": {
      "text/plain": [
       "55.0"
      ]
     },
     "execution_count": 609,
     "metadata": {},
     "output_type": "execute_result"
    }
   ],
   "source": [
    "df['Age'].median()"
   ]
  },
  {
   "cell_type": "markdown",
   "metadata": {},
   "source": [
    "### Repartissons-nous en cinq groupes d'âge\n",
    "Discrétiser notre série d'âges en 5 quantiles grâce à la fonction qcut"
   ]
  },
  {
   "cell_type": "code",
   "execution_count": 610,
   "metadata": {},
   "outputs": [
    {
     "data": {
      "text/plain": [
       "(0     2\n",
       " 1     2\n",
       " 2     4\n",
       " 3     1\n",
       " 4     0\n",
       " 5     3\n",
       " 6     3\n",
       " 7     4\n",
       " 8     4\n",
       " 9     0\n",
       " 10    0\n",
       " 11    1\n",
       " 12    2\n",
       " 13    1\n",
       " 14    1\n",
       " 15    4\n",
       " 16    0\n",
       " 17    3\n",
       " 18    3\n",
       " Name: Age, dtype: int64, array([ 27. ,  30.6,  51.2,  59.4,  62.4,  73. ]))"
      ]
     },
     "execution_count": 610,
     "metadata": {},
     "output_type": "execute_result"
    }
   ],
   "source": [
    "pd.qcut(df['Age'], 5, labels=False, retbins=True)"
   ]
  },
  {
   "cell_type": "markdown",
   "metadata": {},
   "source": [
    "#### La liste précédente ne nous donne pas d'autre information que l'index de la ligne et le numéro de son groupe.\n",
    "Ajoutons ce numéro, qui représente un quintile, à notre jeu de données."
   ]
  },
  {
   "cell_type": "code",
   "execution_count": 611,
   "metadata": {},
   "outputs": [
    {
     "data": {
      "text/html": [
       "<div>\n",
       "<style>\n",
       "    .dataframe thead tr:only-child th {\n",
       "        text-align: right;\n",
       "    }\n",
       "\n",
       "    .dataframe thead th {\n",
       "        text-align: left;\n",
       "    }\n",
       "\n",
       "    .dataframe tbody tr th {\n",
       "        vertical-align: top;\n",
       "    }\n",
       "</style>\n",
       "<table border=\"1\" class=\"dataframe\">\n",
       "  <thead>\n",
       "    <tr style=\"text-align: right;\">\n",
       "      <th></th>\n",
       "      <th>Prénom</th>\n",
       "      <th>Signe astrologique</th>\n",
       "      <th>Date de naissance</th>\n",
       "      <th>Taille en cm</th>\n",
       "      <th>Nombre d'enfants</th>\n",
       "      <th>Sexe</th>\n",
       "      <th>Age</th>\n",
       "      <th>Groupe d'âge</th>\n",
       "    </tr>\n",
       "  </thead>\n",
       "  <tbody>\n",
       "    <tr>\n",
       "      <th>0</th>\n",
       "      <td>lily</td>\n",
       "      <td>Gémeaux</td>\n",
       "      <td>1962-06-22</td>\n",
       "      <td>176.0</td>\n",
       "      <td>0.0</td>\n",
       "      <td>f</td>\n",
       "      <td>55.0</td>\n",
       "      <td>1</td>\n",
       "    </tr>\n",
       "    <tr>\n",
       "      <th>1</th>\n",
       "      <td>anna</td>\n",
       "      <td>Taureau</td>\n",
       "      <td>1960-06-12</td>\n",
       "      <td>178.0</td>\n",
       "      <td>0.0</td>\n",
       "      <td>f</td>\n",
       "      <td>57.0</td>\n",
       "      <td>2</td>\n",
       "    </tr>\n",
       "    <tr>\n",
       "      <th>2</th>\n",
       "      <td>jayden</td>\n",
       "      <td>Taureau</td>\n",
       "      <td>1950-02-19</td>\n",
       "      <td>162.0</td>\n",
       "      <td>0.0</td>\n",
       "      <td>h</td>\n",
       "      <td>67.0</td>\n",
       "      <td>3</td>\n",
       "    </tr>\n",
       "    <tr>\n",
       "      <th>3</th>\n",
       "      <td>abby</td>\n",
       "      <td>Lion</td>\n",
       "      <td>1980-07-07</td>\n",
       "      <td>189.0</td>\n",
       "      <td>3.0</td>\n",
       "      <td>f</td>\n",
       "      <td>37.0</td>\n",
       "      <td>1</td>\n",
       "    </tr>\n",
       "    <tr>\n",
       "      <th>4</th>\n",
       "      <td>signe</td>\n",
       "      <td>Lion</td>\n",
       "      <td>1988-09-02</td>\n",
       "      <td>189.0</td>\n",
       "      <td>3.0</td>\n",
       "      <td>f</td>\n",
       "      <td>29.0</td>\n",
       "      <td>0</td>\n",
       "    </tr>\n",
       "  </tbody>\n",
       "</table>\n",
       "</div>"
      ],
      "text/plain": [
       "   Prénom Signe astrologique Date de naissance  Taille en cm  \\\n",
       "0    lily            Gémeaux        1962-06-22         176.0   \n",
       "1    anna            Taureau        1960-06-12         178.0   \n",
       "2  jayden            Taureau        1950-02-19         162.0   \n",
       "3    abby               Lion        1980-07-07         189.0   \n",
       "4   signe               Lion        1988-09-02         189.0   \n",
       "\n",
       "   Nombre d'enfants Sexe   Age  Groupe d'âge  \n",
       "0               0.0    f  55.0             1  \n",
       "1               0.0    f  57.0             2  \n",
       "2               0.0    h  67.0             3  \n",
       "3               3.0    f  37.0             1  \n",
       "4               3.0    f  29.0             0  "
      ]
     },
     "execution_count": 611,
     "metadata": {},
     "output_type": "execute_result"
    }
   ],
   "source": [
    "df[\"Groupe d'âge\"] = pd.qcut(df['Age'], 4, labels=False)\n",
    "df.head()"
   ]
  },
  {
   "cell_type": "markdown",
   "metadata": {},
   "source": [
    "#### Qui appartient au premier groupe d'âge (les plus jeunes)?"
   ]
  },
  {
   "cell_type": "code",
   "execution_count": 612,
   "metadata": {},
   "outputs": [
    {
     "data": {
      "text/html": [
       "<div>\n",
       "<style>\n",
       "    .dataframe thead tr:only-child th {\n",
       "        text-align: right;\n",
       "    }\n",
       "\n",
       "    .dataframe thead th {\n",
       "        text-align: left;\n",
       "    }\n",
       "\n",
       "    .dataframe tbody tr th {\n",
       "        vertical-align: top;\n",
       "    }\n",
       "</style>\n",
       "<table border=\"1\" class=\"dataframe\">\n",
       "  <thead>\n",
       "    <tr style=\"text-align: right;\">\n",
       "      <th></th>\n",
       "      <th>Prénom</th>\n",
       "      <th>Signe astrologique</th>\n",
       "      <th>Date de naissance</th>\n",
       "      <th>Taille en cm</th>\n",
       "      <th>Nombre d'enfants</th>\n",
       "      <th>Sexe</th>\n",
       "      <th>Age</th>\n",
       "      <th>Groupe d'âge</th>\n",
       "    </tr>\n",
       "  </thead>\n",
       "  <tbody>\n",
       "    <tr>\n",
       "      <th>4</th>\n",
       "      <td>signe</td>\n",
       "      <td>Lion</td>\n",
       "      <td>1988-09-02</td>\n",
       "      <td>189.0</td>\n",
       "      <td>3.0</td>\n",
       "      <td>f</td>\n",
       "      <td>29.0</td>\n",
       "      <td>0</td>\n",
       "    </tr>\n",
       "    <tr>\n",
       "      <th>9</th>\n",
       "      <td>vedat</td>\n",
       "      <td>Capricorne</td>\n",
       "      <td>1987-10-06</td>\n",
       "      <td>176.0</td>\n",
       "      <td>0.0</td>\n",
       "      <td>h</td>\n",
       "      <td>30.0</td>\n",
       "      <td>0</td>\n",
       "    </tr>\n",
       "    <tr>\n",
       "      <th>10</th>\n",
       "      <td>vicki</td>\n",
       "      <td>Scorpion</td>\n",
       "      <td>1988-10-25</td>\n",
       "      <td>179.0</td>\n",
       "      <td>3.0</td>\n",
       "      <td>f</td>\n",
       "      <td>29.0</td>\n",
       "      <td>0</td>\n",
       "    </tr>\n",
       "    <tr>\n",
       "      <th>13</th>\n",
       "      <td>lisa</td>\n",
       "      <td>Lion</td>\n",
       "      <td>1986-08-28</td>\n",
       "      <td>189.0</td>\n",
       "      <td>2.0</td>\n",
       "      <td>f</td>\n",
       "      <td>31.0</td>\n",
       "      <td>0</td>\n",
       "    </tr>\n",
       "    <tr>\n",
       "      <th>16</th>\n",
       "      <td>carolyn</td>\n",
       "      <td>Sagittaire</td>\n",
       "      <td>1990-04-05</td>\n",
       "      <td>171.0</td>\n",
       "      <td>0.0</td>\n",
       "      <td>f</td>\n",
       "      <td>27.0</td>\n",
       "      <td>0</td>\n",
       "    </tr>\n",
       "  </tbody>\n",
       "</table>\n",
       "</div>"
      ],
      "text/plain": [
       "     Prénom Signe astrologique Date de naissance  Taille en cm  \\\n",
       "4     signe               Lion        1988-09-02         189.0   \n",
       "9     vedat         Capricorne        1987-10-06         176.0   \n",
       "10    vicki           Scorpion        1988-10-25         179.0   \n",
       "13     lisa               Lion        1986-08-28         189.0   \n",
       "16  carolyn         Sagittaire        1990-04-05         171.0   \n",
       "\n",
       "    Nombre d'enfants Sexe   Age  Groupe d'âge  \n",
       "4                3.0    f  29.0             0  \n",
       "9                0.0    h  30.0             0  \n",
       "10               3.0    f  29.0             0  \n",
       "13               2.0    f  31.0             0  \n",
       "16               0.0    f  27.0             0  "
      ]
     },
     "execution_count": 612,
     "metadata": {},
     "output_type": "execute_result"
    }
   ],
   "source": [
    "df[df[\"Groupe d'âge\"] == 0]"
   ]
  },
  {
   "cell_type": "markdown",
   "metadata": {},
   "source": [
    "#### Les jeunes sont-ils plus grands que les moins jeunes?"
   ]
  },
  {
   "cell_type": "code",
   "execution_count": 613,
   "metadata": {},
   "outputs": [
    {
     "data": {
      "text/plain": [
       "<matplotlib.axes._subplots.AxesSubplot at 0x1107b8be0>"
      ]
     },
     "execution_count": 613,
     "metadata": {},
     "output_type": "execute_result"
    },
    {
     "data": {
      "image/png": "[encoded data removed]",
      "text/plain": [
       "<matplotlib.figure.Figure at 0x110240c88>"
      ]
     },
     "metadata": {},
     "output_type": "display_data"
    }
   ],
   "source": [
    "df.groupby(\"Groupe d'âge\")[\"Taille en cm\"].median().plot()"
   ]
  },
  {
   "cell_type": "code",
   "execution_count": 655,
   "metadata": {},
   "outputs": [
    {
     "data": {
      "text/plain": [
       "<matplotlib.axes._subplots.AxesSubplot at 0x10b9ce160>"
      ]
     },
     "execution_count": 655,
     "metadata": {},
     "output_type": "execute_result"
    },
    {
     "data": {
      "image/png": "[encoded data removed]",
      "text/plain": [
       "<matplotlib.figure.Figure at 0x10ba38208>"
      ]
     },
     "metadata": {},
     "output_type": "display_data"
    }
   ],
   "source": [
    "df.rolling(12, on='Date de naissance', min_periods=1).mean().plot(x=\"Date de naissance\", y=\"Taille en cm\")"
   ]
  },
  {
   "cell_type": "markdown",
   "metadata": {},
   "source": [
    "### 4) A partir de quel âge notre échantillon commence-t-il à fonder une famille?\n",
    "Quel est le degré de corrélation entre les âges et le nombre d'enfants"
   ]
  },
  {
   "cell_type": "code",
   "execution_count": 614,
   "metadata": {},
   "outputs": [
    {
     "data": {
      "text/plain": [
       "<matplotlib.axes._subplots.AxesSubplot at 0x1108d4320>"
      ]
     },
     "execution_count": 614,
     "metadata": {},
     "output_type": "execute_result"
    },
    {
     "data": {
      "image/png": "[encoded data removed]",
      "text/plain": [
       "<matplotlib.figure.Figure at 0x11080cf60>"
      ]
     },
     "metadata": {},
     "output_type": "display_data"
    }
   ],
   "source": [
    "df.plot(kind=\"scatter\", x=\"Age\", y=\"Nombre d'enfants\")"
   ]
  },
  {
   "cell_type": "code",
   "execution_count": 615,
   "metadata": {},
   "outputs": [
    {
     "data": {
      "text/plain": [
       "<matplotlib.axes._subplots.AxesSubplot at 0x1109608d0>"
      ]
     },
     "execution_count": 615,
     "metadata": {},
     "output_type": "execute_result"
    },
    {
     "data": {
      "image/png": "[encoded data removed]",
      "text/plain": [
       "<matplotlib.figure.Figure at 0x110a11da0>"
      ]
     },
     "metadata": {},
     "output_type": "display_data"
    }
   ],
   "source": [
    "colors_list = []\n",
    "for index, row in df.iterrows():\n",
    "    if row['Sexe'] == \"f\":\n",
    "        colors_list.append(\"#ff3388\")\n",
    "    else:\n",
    "        colors_list.append(\"#333333\")\n",
    "\n",
    "df.plot(kind=\"scatter\", x=\"Age\", y=\"Nombre d'enfants\", color=colors_list)"
   ]
  },
  {
   "cell_type": "markdown",
   "metadata": {},
   "source": [
    "### 5) Qui est susceptible de bien s'entendre avec qui?"
   ]
  },
  {
   "cell_type": "markdown",
   "metadata": {},
   "source": [
    "#### Écart normalisé entre chaque valeur et la moyenne"
   ]
  },
  {
   "cell_type": "code",
   "execution_count": 616,
   "metadata": {},
   "outputs": [
    {
     "data": {
      "text/html": [
       "<div>\n",
       "<style>\n",
       "    .dataframe thead tr:only-child th {\n",
       "        text-align: right;\n",
       "    }\n",
       "\n",
       "    .dataframe thead th {\n",
       "        text-align: left;\n",
       "    }\n",
       "\n",
       "    .dataframe tbody tr th {\n",
       "        vertical-align: top;\n",
       "    }\n",
       "</style>\n",
       "<table border=\"1\" class=\"dataframe\">\n",
       "  <thead>\n",
       "    <tr style=\"text-align: right;\">\n",
       "      <th></th>\n",
       "      <th>Age</th>\n",
       "      <th>Taille en cm</th>\n",
       "      <th>Nombre d'enfants</th>\n",
       "    </tr>\n",
       "  </thead>\n",
       "  <tbody>\n",
       "    <tr>\n",
       "      <th>0</th>\n",
       "      <td>0.107551</td>\n",
       "      <td>-0.015480</td>\n",
       "      <td>-0.342105</td>\n",
       "    </tr>\n",
       "    <tr>\n",
       "      <th>1</th>\n",
       "      <td>0.151030</td>\n",
       "      <td>0.043344</td>\n",
       "      <td>-0.342105</td>\n",
       "    </tr>\n",
       "    <tr>\n",
       "      <th>2</th>\n",
       "      <td>0.368421</td>\n",
       "      <td>-0.427245</td>\n",
       "      <td>-0.342105</td>\n",
       "    </tr>\n",
       "    <tr>\n",
       "      <th>3</th>\n",
       "      <td>-0.283753</td>\n",
       "      <td>0.366873</td>\n",
       "      <td>0.407895</td>\n",
       "    </tr>\n",
       "    <tr>\n",
       "      <th>4</th>\n",
       "      <td>-0.457666</td>\n",
       "      <td>0.366873</td>\n",
       "      <td>0.407895</td>\n",
       "    </tr>\n",
       "  </tbody>\n",
       "</table>\n",
       "</div>"
      ],
      "text/plain": [
       "        Age  Taille en cm  Nombre d'enfants\n",
       "0  0.107551     -0.015480         -0.342105\n",
       "1  0.151030      0.043344         -0.342105\n",
       "2  0.368421     -0.427245         -0.342105\n",
       "3 -0.283753      0.366873          0.407895\n",
       "4 -0.457666      0.366873          0.407895"
      ]
     },
     "execution_count": 616,
     "metadata": {},
     "output_type": "execute_result"
    }
   ],
   "source": [
    "df_values = df[[\"Age\", \"Taille en cm\", \"Nombre d'enfants\"]]\n",
    "df_norm = (df_values - df_values.mean()) / (df_values.max() - df_values.min())\n",
    "df_norm.head()"
   ]
  },
  {
   "cell_type": "markdown",
   "metadata": {},
   "source": [
    "#### Ecart des âges classé par ordre croissant"
   ]
  },
  {
   "cell_type": "code",
   "execution_count": 617,
   "metadata": {},
   "outputs": [
    {
     "data": {
      "text/html": [
       "<div>\n",
       "<style>\n",
       "    .dataframe thead tr:only-child th {\n",
       "        text-align: right;\n",
       "    }\n",
       "\n",
       "    .dataframe thead th {\n",
       "        text-align: left;\n",
       "    }\n",
       "\n",
       "    .dataframe tbody tr th {\n",
       "        vertical-align: top;\n",
       "    }\n",
       "</style>\n",
       "<table border=\"1\" class=\"dataframe\">\n",
       "  <thead>\n",
       "    <tr style=\"text-align: right;\">\n",
       "      <th></th>\n",
       "      <th>Age</th>\n",
       "      <th>Taille en cm</th>\n",
       "      <th>Nombre d'enfants</th>\n",
       "    </tr>\n",
       "  </thead>\n",
       "  <tbody>\n",
       "    <tr>\n",
       "      <th>16</th>\n",
       "      <td>-0.501144</td>\n",
       "      <td>-0.162539</td>\n",
       "      <td>-0.342105</td>\n",
       "    </tr>\n",
       "    <tr>\n",
       "      <th>4</th>\n",
       "      <td>-0.457666</td>\n",
       "      <td>0.366873</td>\n",
       "      <td>0.407895</td>\n",
       "    </tr>\n",
       "    <tr>\n",
       "      <th>10</th>\n",
       "      <td>-0.457666</td>\n",
       "      <td>0.072755</td>\n",
       "      <td>0.407895</td>\n",
       "    </tr>\n",
       "    <tr>\n",
       "      <th>9</th>\n",
       "      <td>-0.435927</td>\n",
       "      <td>-0.015480</td>\n",
       "      <td>-0.342105</td>\n",
       "    </tr>\n",
       "    <tr>\n",
       "      <th>13</th>\n",
       "      <td>-0.414188</td>\n",
       "      <td>0.366873</td>\n",
       "      <td>0.157895</td>\n",
       "    </tr>\n",
       "    <tr>\n",
       "      <th>3</th>\n",
       "      <td>-0.283753</td>\n",
       "      <td>0.366873</td>\n",
       "      <td>0.407895</td>\n",
       "    </tr>\n",
       "    <tr>\n",
       "      <th>14</th>\n",
       "      <td>-0.262014</td>\n",
       "      <td>0.160991</td>\n",
       "      <td>0.157895</td>\n",
       "    </tr>\n",
       "    <tr>\n",
       "      <th>11</th>\n",
       "      <td>0.020595</td>\n",
       "      <td>-0.133127</td>\n",
       "      <td>-0.092105</td>\n",
       "    </tr>\n",
       "    <tr>\n",
       "      <th>12</th>\n",
       "      <td>0.042334</td>\n",
       "      <td>0.219814</td>\n",
       "      <td>0.657895</td>\n",
       "    </tr>\n",
       "    <tr>\n",
       "      <th>0</th>\n",
       "      <td>0.107551</td>\n",
       "      <td>-0.015480</td>\n",
       "      <td>-0.342105</td>\n",
       "    </tr>\n",
       "    <tr>\n",
       "      <th>1</th>\n",
       "      <td>0.151030</td>\n",
       "      <td>0.043344</td>\n",
       "      <td>-0.342105</td>\n",
       "    </tr>\n",
       "    <tr>\n",
       "      <th>18</th>\n",
       "      <td>0.216247</td>\n",
       "      <td>-0.191950</td>\n",
       "      <td>0.157895</td>\n",
       "    </tr>\n",
       "    <tr>\n",
       "      <th>6</th>\n",
       "      <td>0.237986</td>\n",
       "      <td>0.043344</td>\n",
       "      <td>0.157895</td>\n",
       "    </tr>\n",
       "    <tr>\n",
       "      <th>5</th>\n",
       "      <td>0.237986</td>\n",
       "      <td>-0.280186</td>\n",
       "      <td>-0.092105</td>\n",
       "    </tr>\n",
       "    <tr>\n",
       "      <th>17</th>\n",
       "      <td>0.259725</td>\n",
       "      <td>0.043344</td>\n",
       "      <td>-0.092105</td>\n",
       "    </tr>\n",
       "    <tr>\n",
       "      <th>15</th>\n",
       "      <td>0.281465</td>\n",
       "      <td>-0.250774</td>\n",
       "      <td>-0.092105</td>\n",
       "    </tr>\n",
       "    <tr>\n",
       "      <th>2</th>\n",
       "      <td>0.368421</td>\n",
       "      <td>-0.427245</td>\n",
       "      <td>-0.342105</td>\n",
       "    </tr>\n",
       "    <tr>\n",
       "      <th>8</th>\n",
       "      <td>0.390160</td>\n",
       "      <td>-0.603715</td>\n",
       "      <td>-0.092105</td>\n",
       "    </tr>\n",
       "    <tr>\n",
       "      <th>7</th>\n",
       "      <td>0.498856</td>\n",
       "      <td>0.396285</td>\n",
       "      <td>-0.342105</td>\n",
       "    </tr>\n",
       "  </tbody>\n",
       "</table>\n",
       "</div>"
      ],
      "text/plain": [
       "         Age  Taille en cm  Nombre d'enfants\n",
       "16 -0.501144     -0.162539         -0.342105\n",
       "4  -0.457666      0.366873          0.407895\n",
       "10 -0.457666      0.072755          0.407895\n",
       "9  -0.435927     -0.015480         -0.342105\n",
       "13 -0.414188      0.366873          0.157895\n",
       "3  -0.283753      0.366873          0.407895\n",
       "14 -0.262014      0.160991          0.157895\n",
       "11  0.020595     -0.133127         -0.092105\n",
       "12  0.042334      0.219814          0.657895\n",
       "0   0.107551     -0.015480         -0.342105\n",
       "1   0.151030      0.043344         -0.342105\n",
       "18  0.216247     -0.191950          0.157895\n",
       "6   0.237986      0.043344          0.157895\n",
       "5   0.237986     -0.280186         -0.092105\n",
       "17  0.259725      0.043344         -0.092105\n",
       "15  0.281465     -0.250774         -0.092105\n",
       "2   0.368421     -0.427245         -0.342105\n",
       "8   0.390160     -0.603715         -0.092105\n",
       "7   0.498856      0.396285         -0.342105"
      ]
     },
     "execution_count": 617,
     "metadata": {},
     "output_type": "execute_result"
    }
   ],
   "source": [
    "df_norm.sort_values(by=\"Age\")"
   ]
  },
  {
   "cell_type": "markdown",
   "metadata": {},
   "source": [
    "#### Difficile de lire le tableau ci-dessus. Essayons d'en faire un graphique."
   ]
  },
  {
   "cell_type": "code",
   "execution_count": 621,
   "metadata": {},
   "outputs": [
    {
     "data": {
      "image/png": "[encoded data removed]",
      "text/plain": [
       "<matplotlib.figure.Figure at 0x110c219b0>"
      ]
     },
     "metadata": {},
     "output_type": "display_data"
    }
   ],
   "source": [
    "# Le canevas du graphique\n",
    "fig, ax = plt.subplots()\n",
    "heatmap = ax.pcolor(df_norm, cmap=plt.cm.Blues, alpha=0.8)\n",
    "\n",
    "# Format\n",
    "fig = plt.gcf()\n",
    "fig.set_size_inches(2, 6)\n",
    "\n",
    "# Masque le cadre\n",
    "ax.set_frame_on(False)\n",
    "\n",
    "# Positionne les ticks\n",
    "ax.set_yticks(np.arange(df.shape[0]) + 0.5, minor=False)\n",
    "ax.set_xticks(np.arange(df_norm.shape[1]) + 0.5, minor=False)\n",
    "\n",
    "# Donne l'apparence d'un tableau\n",
    "ax.invert_yaxis()\n",
    "ax.xaxis.tick_top()\n",
    "\n",
    "# Définit les labels\n",
    "ax.set_xticklabels([\"Age\", \"Taille en cm\", \"Nombre d'enfants\"], minor=False)\n",
    "ax.set_yticklabels(df[\"Prénom\"], minor=False)\n",
    "\n",
    "# Pivote les labels du dessus\n",
    "plt.xticks(rotation=90)\n",
    "\n",
    "ax.grid(False)"
   ]
  },
  {
   "cell_type": "markdown",
   "metadata": {},
   "source": [
    "### 6) Qui sort du lot?"
   ]
  },
  {
   "cell_type": "code",
   "execution_count": 619,
   "metadata": {},
   "outputs": [
    {
     "data": {
      "text/plain": [
       "7     0.412415\n",
       "4     0.410811\n",
       "2     0.379257\n",
       "8     0.361994\n",
       "3     0.352840\n",
       "16    0.335263\n",
       "13    0.312985\n",
       "10    0.312772\n",
       "12    0.306681\n",
       "9     0.264504\n",
       "15    0.208115\n",
       "5     0.203426\n",
       "14    0.193633\n",
       "18    0.188697\n",
       "1     0.178826\n",
       "0     0.155046\n",
       "6     0.146408\n",
       "17    0.131725\n",
       "11    0.081942\n",
       "dtype: float64"
      ]
     },
     "execution_count": 619,
     "metadata": {},
     "output_type": "execute_result"
    }
   ],
   "source": [
    "moyenne = (abs(df_norm[\"Taille en cm\"]) \n",
    "           + abs(df_norm[\"Nombre d'enfants\"])\n",
    "           + abs(df_norm[\"Age\"])) / 3\n",
    "\n",
    "moyenne.sort_values(ascending=False)"
   ]
  },
  {
   "cell_type": "markdown",
   "metadata": {},
   "source": [
    "#### On veut des noms!"
   ]
  },
  {
   "cell_type": "code",
   "execution_count": 620,
   "metadata": {},
   "outputs": [
    {
     "data": {
      "text/html": [
       "<div>\n",
       "<style>\n",
       "    .dataframe thead tr:only-child th {\n",
       "        text-align: right;\n",
       "    }\n",
       "\n",
       "    .dataframe thead th {\n",
       "        text-align: left;\n",
       "    }\n",
       "\n",
       "    .dataframe tbody tr th {\n",
       "        vertical-align: top;\n",
       "    }\n",
       "</style>\n",
       "<table border=\"1\" class=\"dataframe\">\n",
       "  <thead>\n",
       "    <tr style=\"text-align: right;\">\n",
       "      <th></th>\n",
       "      <th>0</th>\n",
       "      <th>nom</th>\n",
       "    </tr>\n",
       "  </thead>\n",
       "  <tbody>\n",
       "    <tr>\n",
       "      <th>7</th>\n",
       "      <td>0.412415</td>\n",
       "      <td>celísio</td>\n",
       "    </tr>\n",
       "    <tr>\n",
       "      <th>4</th>\n",
       "      <td>0.410811</td>\n",
       "      <td>signe</td>\n",
       "    </tr>\n",
       "    <tr>\n",
       "      <th>2</th>\n",
       "      <td>0.379257</td>\n",
       "      <td>jayden</td>\n",
       "    </tr>\n",
       "    <tr>\n",
       "      <th>8</th>\n",
       "      <td>0.361994</td>\n",
       "      <td>katarina</td>\n",
       "    </tr>\n",
       "    <tr>\n",
       "      <th>3</th>\n",
       "      <td>0.352840</td>\n",
       "      <td>abby</td>\n",
       "    </tr>\n",
       "    <tr>\n",
       "      <th>16</th>\n",
       "      <td>0.335263</td>\n",
       "      <td>carolyn</td>\n",
       "    </tr>\n",
       "    <tr>\n",
       "      <th>13</th>\n",
       "      <td>0.312985</td>\n",
       "      <td>lisa</td>\n",
       "    </tr>\n",
       "    <tr>\n",
       "      <th>10</th>\n",
       "      <td>0.312772</td>\n",
       "      <td>vicki</td>\n",
       "    </tr>\n",
       "    <tr>\n",
       "      <th>12</th>\n",
       "      <td>0.306681</td>\n",
       "      <td>frankie</td>\n",
       "    </tr>\n",
       "    <tr>\n",
       "      <th>9</th>\n",
       "      <td>0.264504</td>\n",
       "      <td>vedat</td>\n",
       "    </tr>\n",
       "    <tr>\n",
       "      <th>15</th>\n",
       "      <td>0.208115</td>\n",
       "      <td>aatu</td>\n",
       "    </tr>\n",
       "    <tr>\n",
       "      <th>5</th>\n",
       "      <td>0.203426</td>\n",
       "      <td>sofia</td>\n",
       "    </tr>\n",
       "    <tr>\n",
       "      <th>14</th>\n",
       "      <td>0.193633</td>\n",
       "      <td>hanna</td>\n",
       "    </tr>\n",
       "    <tr>\n",
       "      <th>18</th>\n",
       "      <td>0.188697</td>\n",
       "      <td>aatu</td>\n",
       "    </tr>\n",
       "    <tr>\n",
       "      <th>1</th>\n",
       "      <td>0.178826</td>\n",
       "      <td>anna</td>\n",
       "    </tr>\n",
       "    <tr>\n",
       "      <th>0</th>\n",
       "      <td>0.155046</td>\n",
       "      <td>lily</td>\n",
       "    </tr>\n",
       "    <tr>\n",
       "      <th>6</th>\n",
       "      <td>0.146408</td>\n",
       "      <td>marianne</td>\n",
       "    </tr>\n",
       "    <tr>\n",
       "      <th>17</th>\n",
       "      <td>0.131725</td>\n",
       "      <td>kaya</td>\n",
       "    </tr>\n",
       "    <tr>\n",
       "      <th>11</th>\n",
       "      <td>0.081942</td>\n",
       "      <td>vicente</td>\n",
       "    </tr>\n",
       "  </tbody>\n",
       "</table>\n",
       "</div>"
      ],
      "text/plain": [
       "           0       nom\n",
       "7   0.412415   celísio\n",
       "4   0.410811     signe\n",
       "2   0.379257    jayden\n",
       "8   0.361994  katarina\n",
       "3   0.352840      abby\n",
       "16  0.335263   carolyn\n",
       "13  0.312985      lisa\n",
       "10  0.312772     vicki\n",
       "12  0.306681   frankie\n",
       "9   0.264504     vedat\n",
       "15  0.208115      aatu\n",
       "5   0.203426     sofia\n",
       "14  0.193633     hanna\n",
       "18  0.188697      aatu\n",
       "1   0.178826      anna\n",
       "0   0.155046      lily\n",
       "6   0.146408  marianne\n",
       "17  0.131725      kaya\n",
       "11  0.081942   vicente"
      ]
     },
     "execution_count": 620,
     "metadata": {},
     "output_type": "execute_result"
    }
   ],
   "source": [
    "df_moyenne = pd.DataFrame(moyenne)\n",
    "df_moyenne['nom'] = df['Prénom']\n",
    "df_moyenne.sort_values(by=0, ascending=False)"
   ]
  },
  {
   "cell_type": "code",
   "execution_count": null,
   "metadata": {
    "collapsed": true
   },
   "outputs": [],
   "source": []
  }
 ],
 "metadata": {
  "kernelspec": {
   "display_name": "Python 3",
   "language": "python",
   "name": "python3"
  },
  "language_info": {
   "codemirror_mode": {
    "name": "ipython",
    "version": 3
   },
   "file_extension": ".py",
   "mimetype": "text/x-python",
   "name": "python",
   "nbconvert_exporter": "python",
   "pygments_lexer": "ipython3",
   "version": "3.6.3"
  }
 },
 "nbformat": 4,
 "nbformat_minor": 2
}
